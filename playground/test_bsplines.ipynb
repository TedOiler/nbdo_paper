{
 "cells": [
  {
   "cell_type": "code",
   "execution_count": 51,
   "metadata": {
    "collapsed": true
   },
   "outputs": [],
   "source": [
    "import numpy as np\n",
    "from matplotlib import pyplot as plt\n",
    "import sys\n",
    "import os\n",
    "from scipy.integrate import quad\n",
    "from scipy.linalg import block_diag\n",
    "\n",
    "sys.path.append(os.path.abspath(\"../utilities\"))\n",
    "from basis import b_spline_basis, polynomial\n",
    "from matrix_calc import Jcb, calc_basis_matrix\n",
    "\n",
    "def elements_2(n, p, l1=0, k=3, knots_num=None) -> float:\n",
    "    if knots_num is None:\n",
    "        knots = [0.]*k + list(np.linspace(0, 1, k+1)) + [1.]*k\n",
    "    else:\n",
    "        knots = [0.]*k + list(np.linspace(0, 1, knots_num - k)) + [1.]*k\n",
    "\n",
    "    b_spline = lambda t: b_spline_basis(t, k, l1, knots)\n",
    "    return quad(lambda t: b_spline(t) * polynomial(t, p=p), 0, 1, full_output=True)[0]\n",
    "\n",
    "def calc_basis_matrix_2(x_basis, b_basis, k=3, knots_num=None) -> np.ndarray:\n",
    "    return np.array([[elements_2(n=x_basis, p=p, l1=l1, k=k, knots_num=knots_num) for p in range(b_basis)] for l1 in range(x_basis)])\n",
    "\n",
    "def Jcb_2(*matrices):\n",
    "    return block_diag(*matrices)\n",
    "\n",
    "def plot_b_spline_basis(k, knots):\n",
    "    t_vals = np.linspace(0, 1, 10_000)\n",
    "    plt.figure(figsize=(10, 6))\n",
    "\n",
    "    for i in range(knots_num - 1):\n",
    "        b_spline_vals = [b_spline_basis(t, k, i, knots) for t in t_vals]\n",
    "        plt.plot(t_vals, b_spline_vals)\n",
    "\n",
    "    plt.title('B-spline Basis Functions')\n",
    "    plt.xlabel('$t$')\n",
    "    plt.ylabel('Basis function value')\n",
    "    plt.grid(True)\n",
    "    plt.show()"
   ]
  },
  {
   "cell_type": "markdown",
   "source": [
    "### Settings"
   ],
   "metadata": {
    "collapsed": false
   }
  },
  {
   "cell_type": "code",
   "execution_count": 76,
   "outputs": [],
   "source": [
    "Kx = [[10]]  # B-splines\n",
    "Kb = [[2]]  # Polynomial\n",
    "k_degree = 0  # Degree of the B-spline\n",
    "knots_num = Kx[0][0]  # Number of knots, adjust as needed\n",
    "knots = [0.]*k_degree + list(np.linspace(0, 1, knots_num - k_degree)) + [1.]*k_degree"
   ],
   "metadata": {
    "collapsed": false
   }
  },
  {
   "cell_type": "markdown",
   "source": [
    "### Visualization of b-spline basis"
   ],
   "metadata": {
    "collapsed": false
   }
  },
  {
   "cell_type": "code",
   "execution_count": 77,
   "outputs": [
    {
     "data": {
      "text/plain": "<Figure size 720x432 with 1 Axes>",
      "image/png": "[encoded data removed]"
     },
     "metadata": {
      "needs_background": "light"
     },
     "output_type": "display_data"
    }
   ],
   "source": [
    "plot_b_spline_basis(k_degree, knots)"
   ],
   "metadata": {
    "collapsed": false
   }
  },
  {
   "cell_type": "markdown",
   "source": [
    "### Jcb calculation between b-splines and polynomials"
   ],
   "metadata": {
    "collapsed": false
   }
  },
  {
   "cell_type": "code",
   "execution_count": 78,
   "outputs": [
    {
     "name": "stdout",
     "output_type": "stream",
     "text": [
      "[[0.111 0.006]\n",
      " [0.111 0.019]\n",
      " [0.111 0.031]\n",
      " [0.111 0.043]\n",
      " [0.111 0.056]\n",
      " [0.111 0.068]\n",
      " [0.111 0.08 ]\n",
      " [0.111 0.093]\n",
      " [0.111 0.105]]\n"
     ]
    }
   ],
   "source": [
    "J_cb_2 = np.round(Jcb_2(*[calc_basis_matrix_2(x_basis=x, b_basis=b, k=k_degree, knots_num=knots_num) for x, b in zip([Kx[0][0]-1], Kb[0])]), 3)\n",
    "print(J_cb_2)"
   ],
   "metadata": {
    "collapsed": false
   }
  },
  {
   "cell_type": "code",
   "execution_count": 79,
   "outputs": [
    {
     "name": "stdout",
     "output_type": "stream",
     "text": [
      "[[0.111 0.006]\n",
      " [0.111 0.019]\n",
      " [0.111 0.031]\n",
      " [0.111 0.043]\n",
      " [0.111 0.056]\n",
      " [0.111 0.068]\n",
      " [0.111 0.08 ]\n",
      " [0.111 0.093]\n",
      " [0.111 0.105]]\n"
     ]
    }
   ],
   "source": [
    "J_cb = np.round(Jcb(*[calc_basis_matrix(x_basis=x, b_basis=b) for x, b in zip([Kx[0][0]-1], Kb[0])]), 3)\n",
    "print(J_cb)"
   ],
   "metadata": {
    "collapsed": false
   }
  },
  {
   "cell_type": "code",
   "execution_count": 80,
   "outputs": [
    {
     "name": "stdout",
     "output_type": "stream",
     "text": [
      "1.0\n"
     ]
    }
   ],
   "source": [
    "print(np.sum(J_cb_2 == J_cb) / J_cb.size)"
   ],
   "metadata": {
    "collapsed": false
   }
  },
  {
   "cell_type": "code",
   "execution_count": null,
   "outputs": [],
   "source": [],
   "metadata": {
    "collapsed": false
   }
  }
 ],
 "metadata": {
  "kernelspec": {
   "display_name": "Python 3",
   "language": "python",
   "name": "python3"
  },
  "language_info": {
   "codemirror_mode": {
    "name": "ipython",
    "version": 2
   },
   "file_extension": ".py",
   "mimetype": "text/x-python",
   "name": "python",
   "nbconvert_exporter": "python",
   "pygments_lexer": "ipython2",
   "version": "2.7.6"
  }
 },
 "nbformat": 4,
 "nbformat_minor": 0
}
