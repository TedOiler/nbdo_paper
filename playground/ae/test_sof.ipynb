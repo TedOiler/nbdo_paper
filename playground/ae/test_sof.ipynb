{
 "cells": [
  {
   "cell_type": "code",
   "execution_count": 2,
   "metadata": {
    "collapsed": true
   },
   "outputs": [],
   "source": [
    "import sys\n",
    "import os\n",
    "import numpy as np\n",
    "\n",
    "sys.path.append(os.path.abspath(\"../../mathematical_models\"))\n",
    "from mathematical_models.s_on_f import ScalarOnFunctionModel\n",
    "from mathematical_models.f_on_f import FunctionOnFunctionModel\n",
    "from mathematical_models.s_on_s import ScalarOnScalarModel\n",
    "\n",
    "sys.path.append(os.path.abspath(\"../../optimizers\"))\n",
    "from optimizers.nbdo import NBDO\n",
    "\n",
    "sys.path.append(os.path.abspath(\"../../utilities\"))\n",
    "from utilities.plotting.plot_fun import subplot_results"
   ]
  },
  {
   "cell_type": "markdown",
   "source": [
    "### Settings"
   ],
   "metadata": {
    "collapsed": false
   }
  },
  {
   "cell_type": "code",
   "execution_count": 3,
   "outputs": [],
   "source": [
    "N = 4 # runs\n",
    "Kx_family = 'step'\n",
    "Kx = [[16]]\n",
    "Kb = [[2]] # Polynomial\n",
    "epochs = 100\n",
    "s_on_f_model = ScalarOnFunctionModel(Kx=Kx[0], Kb= Kb[0], Kx_family=Kx_family)"
   ],
   "metadata": {
    "collapsed": false
   }
  },
  {
   "cell_type": "code",
   "execution_count": 4,
   "outputs": [],
   "source": [
    "optimizer_s_on_f = NBDO(model=s_on_f_model, latent_dim=2)\n",
    "optimizer_s_on_f.compute_train_set(num_designs=1_000, runs=N)"
   ],
   "metadata": {
    "collapsed": false
   }
  },
  {
   "cell_type": "code",
   "execution_count": 5,
   "outputs": [
    {
     "name": "stdout",
     "output_type": "stream",
     "text": [
      "NBDO(\n",
      "  model: ScalarOnFunctionModel,\n",
      "  max_layers: None,\n",
      "  latent_dim: 2,\n",
      "  input_dim: 64,\n",
      "  num_layers: None,\n",
      "  train_set: (800, 64),\n",
      "  val_set: (200, 64)\n",
      "  base: 2,\n",
      "  alpha: 0.0,\n",
      "  latent_space_activation: tanh,\n",
      "  output_space_activation: tanh,\n",
      ")\n"
     ]
    }
   ],
   "source": [
    "print(repr(optimizer_s_on_f))"
   ],
   "metadata": {
    "collapsed": false
   }
  },
  {
   "cell_type": "code",
   "execution_count": 6,
   "outputs": [
    {
     "name": "stdout",
     "output_type": "stream",
     "text": [
      "Epoch 1/100\n"
     ]
    },
    {
     "name": "stderr",
     "output_type": "stream",
     "text": [
      "2024-08-14 17:35:15.816661: W tensorflow/tsl/platform/profile_utils/cpu_utils.cc:128] Failed to get CPU frequency: 0 Hz\n"
     ]
    },
    {
     "name": "stdout",
     "output_type": "stream",
     "text": [
      "25/25 [==============================] - 1s 5ms/step - loss: 110817.6875 - val_loss: 14904.7734\n",
      "Epoch 2/100\n",
      "25/25 [==============================] - 0s 1ms/step - loss: 8615.8867 - val_loss: 4527.6924\n",
      "Epoch 3/100\n",
      "25/25 [==============================] - 0s 1ms/step - loss: 2823.9519 - val_loss: 1478.8053\n",
      "Epoch 4/100\n",
      "25/25 [==============================] - 0s 1ms/step - loss: 925.9665 - val_loss: 518.6608\n",
      "Epoch 5/100\n",
      "25/25 [==============================] - 0s 1ms/step - loss: 337.3152 - val_loss: 194.2224\n",
      "Epoch 6/100\n",
      "25/25 [==============================] - 0s 1ms/step - loss: 128.0918 - val_loss: 76.4870\n",
      "Epoch 7/100\n",
      "25/25 [==============================] - 0s 1ms/step - loss: 52.1564 - val_loss: 33.8704\n",
      "Epoch 8/100\n",
      "25/25 [==============================] - 0s 1ms/step - loss: 24.8103 - val_loss: 18.1102\n",
      "Epoch 9/100\n",
      "25/25 [==============================] - 0s 1ms/step - loss: 14.6252 - val_loss: 12.0104\n",
      "Epoch 10/100\n",
      "25/25 [==============================] - 0s 1ms/step - loss: 10.6921 - val_loss: 9.6742\n",
      "Epoch 11/100\n",
      "25/25 [==============================] - 0s 1ms/step - loss: 9.1774 - val_loss: 8.7970\n",
      "Epoch 12/100\n",
      "25/25 [==============================] - 0s 1ms/step - loss: 8.6350 - val_loss: 8.5221\n",
      "Epoch 13/100\n",
      "25/25 [==============================] - 0s 1ms/step - loss: 8.4822 - val_loss: 8.4561\n",
      "Epoch 14/100\n",
      "25/25 [==============================] - 0s 1ms/step - loss: 8.4476 - val_loss: 8.4422\n",
      "Epoch 15/100\n",
      "25/25 [==============================] - 0s 1ms/step - loss: 8.4404 - val_loss: 8.4393\n",
      "Epoch 16/100\n",
      "25/25 [==============================] - 0s 1ms/step - loss: 8.4389 - val_loss: 8.4386\n",
      "Epoch 17/100\n",
      "25/25 [==============================] - 0s 1ms/step - loss: 8.4385 - val_loss: 8.4385\n",
      "Epoch 18/100\n",
      "25/25 [==============================] - 0s 1ms/step - loss: 8.4384 - val_loss: 8.4384\n",
      "Epoch 19/100\n",
      "25/25 [==============================] - 0s 1ms/step - loss: 8.4384 - val_loss: 8.4384\n",
      "Epoch 20/100\n",
      "25/25 [==============================] - 0s 1ms/step - loss: 8.4384 - val_loss: 8.4384\n",
      "Epoch 21/100\n",
      "25/25 [==============================] - 0s 1ms/step - loss: 8.4384 - val_loss: 8.4384\n",
      "Epoch 22/100\n",
      "25/25 [==============================] - 0s 1ms/step - loss: 8.4384 - val_loss: 8.4384\n",
      "Epoch 23/100\n",
      "25/25 [==============================] - 0s 1ms/step - loss: 8.4384 - val_loss: 8.4384\n",
      "Epoch 24/100\n",
      "25/25 [==============================] - 0s 1ms/step - loss: 8.4384 - val_loss: 8.4384\n",
      "Epoch 25/100\n",
      "25/25 [==============================] - 0s 1ms/step - loss: 8.4384 - val_loss: 8.4384\n",
      "Epoch 26/100\n",
      "25/25 [==============================] - 0s 1ms/step - loss: 8.4384 - val_loss: 8.4384\n",
      "Epoch 27/100\n",
      "25/25 [==============================] - 0s 1ms/step - loss: 8.4384 - val_loss: 8.4384\n",
      "Epoch 28/100\n",
      "25/25 [==============================] - 0s 1ms/step - loss: 8.4384 - val_loss: 8.4384\n",
      "Epoch 29/100\n",
      "25/25 [==============================] - 0s 1ms/step - loss: 8.4384 - val_loss: 8.4384\n",
      "Epoch 30/100\n",
      "25/25 [==============================] - 0s 1ms/step - loss: 8.4384 - val_loss: 8.4384\n",
      "Epoch 31/100\n",
      "25/25 [==============================] - 0s 1ms/step - loss: 8.4384 - val_loss: 8.4384\n",
      "Epoch 32/100\n",
      "25/25 [==============================] - 0s 1ms/step - loss: 8.4384 - val_loss: 8.4384\n",
      "Epoch 33/100\n",
      "25/25 [==============================] - 0s 1ms/step - loss: 8.4384 - val_loss: 8.4384\n",
      "Epoch 34/100\n",
      "25/25 [==============================] - 0s 1ms/step - loss: 8.4384 - val_loss: 8.4384\n",
      "Epoch 35/100\n",
      "25/25 [==============================] - 0s 1ms/step - loss: 8.4384 - val_loss: 8.4384\n",
      "Epoch 36/100\n",
      "25/25 [==============================] - 0s 1ms/step - loss: 8.4384 - val_loss: 8.4384\n",
      "Epoch 37/100\n",
      "25/25 [==============================] - 0s 1ms/step - loss: 8.4384 - val_loss: 8.4384\n",
      "Epoch 38/100\n",
      "25/25 [==============================] - 0s 1ms/step - loss: 8.4384 - val_loss: 8.4384\n",
      "Epoch 39/100\n",
      "25/25 [==============================] - 0s 1ms/step - loss: 8.4384 - val_loss: 8.4384\n",
      "Epoch 40/100\n",
      "25/25 [==============================] - 0s 1ms/step - loss: 8.4384 - val_loss: 8.4384\n",
      "Epoch 41/100\n",
      "25/25 [==============================] - 0s 1ms/step - loss: 8.4384 - val_loss: 8.4384\n",
      "Epoch 42/100\n",
      "25/25 [==============================] - 0s 1ms/step - loss: 8.4384 - val_loss: 8.4384\n",
      "Epoch 43/100\n",
      "25/25 [==============================] - 0s 1ms/step - loss: 8.4384 - val_loss: 8.4384\n",
      "Epoch 44/100\n",
      "25/25 [==============================] - 0s 1ms/step - loss: 8.4384 - val_loss: 8.4384\n",
      "Epoch 45/100\n",
      "25/25 [==============================] - 0s 1ms/step - loss: 8.4384 - val_loss: 8.4384\n",
      "Epoch 46/100\n",
      "25/25 [==============================] - 0s 1ms/step - loss: 8.4384 - val_loss: 8.4384\n",
      "Epoch 47/100\n",
      "25/25 [==============================] - 0s 1ms/step - loss: 8.4384 - val_loss: 8.4384\n",
      "Epoch 48/100\n",
      "25/25 [==============================] - 0s 1ms/step - loss: 8.4384 - val_loss: 8.4384\n",
      "Epoch 49/100\n",
      "25/25 [==============================] - 0s 1ms/step - loss: 8.4384 - val_loss: 8.4384\n",
      "Epoch 50/100\n",
      "25/25 [==============================] - 0s 1ms/step - loss: 8.4384 - val_loss: 8.4384\n",
      "Epoch 51/100\n",
      "25/25 [==============================] - 0s 1ms/step - loss: 8.4384 - val_loss: 8.4384\n",
      "Epoch 52/100\n",
      "25/25 [==============================] - 0s 1ms/step - loss: 8.4384 - val_loss: 8.4384\n",
      "Epoch 53/100\n",
      "25/25 [==============================] - 0s 1ms/step - loss: 8.4384 - val_loss: 8.4384\n",
      "Epoch 54/100\n",
      "25/25 [==============================] - 0s 1ms/step - loss: 8.4384 - val_loss: 8.4384\n",
      "Epoch 55/100\n",
      "25/25 [==============================] - 0s 1ms/step - loss: 8.4384 - val_loss: 8.4384\n",
      "Epoch 56/100\n",
      "25/25 [==============================] - 0s 1ms/step - loss: 8.4384 - val_loss: 8.4384\n",
      "Epoch 57/100\n",
      "25/25 [==============================] - 0s 1ms/step - loss: 8.4384 - val_loss: 8.4384\n",
      "Epoch 58/100\n",
      "25/25 [==============================] - 0s 1ms/step - loss: 8.4384 - val_loss: 8.4384\n",
      "Epoch 59/100\n",
      "25/25 [==============================] - 0s 1ms/step - loss: 8.4384 - val_loss: 8.4384\n",
      "Epoch 60/100\n",
      "25/25 [==============================] - 0s 1ms/step - loss: 8.4384 - val_loss: 8.4384\n",
      "Epoch 61/100\n",
      "25/25 [==============================] - 0s 1ms/step - loss: 8.4384 - val_loss: 8.4384\n",
      "Epoch 62/100\n",
      "25/25 [==============================] - 0s 1ms/step - loss: 8.4384 - val_loss: 8.4384\n",
      "Epoch 63/100\n",
      "25/25 [==============================] - 0s 1ms/step - loss: 8.4384 - val_loss: 8.4384\n",
      "Epoch 64/100\n",
      "25/25 [==============================] - 0s 1ms/step - loss: 8.4384 - val_loss: 8.4384\n",
      "Epoch 65/100\n",
      "25/25 [==============================] - 0s 1ms/step - loss: 8.4384 - val_loss: 8.4384\n",
      "Epoch 66/100\n",
      "25/25 [==============================] - 0s 1ms/step - loss: 8.4384 - val_loss: 8.4384\n",
      "Epoch 67/100\n",
      "25/25 [==============================] - 0s 1ms/step - loss: 8.4384 - val_loss: 8.4384\n",
      "Epoch 68/100\n",
      "25/25 [==============================] - 0s 1ms/step - loss: 8.4384 - val_loss: 8.4384\n",
      "Epoch 69/100\n",
      "25/25 [==============================] - 0s 1ms/step - loss: 8.4384 - val_loss: 8.4384\n",
      "Epoch 70/100\n",
      "25/25 [==============================] - 0s 1ms/step - loss: 8.4384 - val_loss: 8.4384\n",
      "Epoch 71/100\n",
      "25/25 [==============================] - 0s 1ms/step - loss: 8.4384 - val_loss: 8.4384\n",
      "Epoch 72/100\n",
      "25/25 [==============================] - 0s 1ms/step - loss: 8.4384 - val_loss: 8.4384\n",
      "Epoch 73/100\n",
      "25/25 [==============================] - 0s 1ms/step - loss: 8.4384 - val_loss: 8.4384\n",
      "Epoch 74/100\n",
      "25/25 [==============================] - 0s 1ms/step - loss: 8.4384 - val_loss: 8.4384\n",
      "Epoch 75/100\n",
      "25/25 [==============================] - 0s 1ms/step - loss: 8.4384 - val_loss: 8.4384\n"
     ]
    }
   ],
   "source": [
    "ae, e, d, h = optimizer_s_on_f.optimize(epochs=epochs)"
   ],
   "metadata": {
    "collapsed": false
   }
  },
  {
   "cell_type": "code",
   "execution_count": null,
   "outputs": [],
   "source": [],
   "metadata": {
    "collapsed": false
   }
  }
 ],
 "metadata": {
  "kernelspec": {
   "display_name": "Python 3",
   "language": "python",
   "name": "python3"
  },
  "language_info": {
   "codemirror_mode": {
    "name": "ipython",
    "version": 2
   },
   "file_extension": ".py",
   "mimetype": "text/x-python",
   "name": "python",
   "nbconvert_exporter": "python",
   "pygments_lexer": "ipython2",
   "version": "2.7.6"
  }
 },
 "nbformat": 4,
 "nbformat_minor": 0
}
