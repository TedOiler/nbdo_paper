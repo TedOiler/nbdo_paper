{
 "cells": [
  {
   "cell_type": "code",
   "execution_count": 10,
   "metadata": {
    "collapsed": true
   },
   "outputs": [],
   "source": [
    "import sys\n",
    "import os\n",
    "import numpy as np\n",
    "\n",
    "sys.path.append(os.path.abspath(\"../../mathematical_models\"))\n",
    "from mathematical_models.s_on_f import ScalarOnFunctionModel\n",
    "from mathematical_models.f_on_f import FunctionOnFunctionModel\n",
    "from mathematical_models.s_on_s import ScalarOnScalarModel\n",
    "\n",
    "sys.path.append(os.path.abspath(\"../../optimizers\"))\n",
    "from optimizers.nbdo import NBDO\n",
    "\n",
    "sys.path.append(os.path.abspath(\"../../utilities\"))\n",
    "from utilities.plotting.plot_fun import subplot_results\n",
    "\n",
    "sys.path.append(os.path.abspath(\"../../basis\"))\n",
    "from basis.bspline import BSplineBasis\n",
    "from basis.polynomial import PolynomialBasis\n",
    "from basis.basis import plot_design\n",
    "from basis.basis import Basis\n",
    "from basis.fourier import FourierBasis"
   ]
  },
  {
   "cell_type": "markdown",
   "source": [
    "### Settings"
   ],
   "metadata": {
    "collapsed": false
   }
  },
  {
   "cell_type": "code",
   "execution_count": 11,
   "outputs": [],
   "source": [
    "N = 12\n",
    "x_base = BSplineBasis(degree=0, total_knots_num=4) # C\n",
    "bs_base = PolynomialBasis(degree=2) # H\n",
    "bases_pairs = [(x_base, bs_base)]\n",
    "s_on_f_model = ScalarOnFunctionModel(bases_pairs=bases_pairs)"
   ],
   "metadata": {
    "collapsed": false
   }
  },
  {
   "cell_type": "code",
   "execution_count": 12,
   "outputs": [],
   "source": [
    "optimizer_s_on_f = NBDO(model=s_on_f_model, latent_dim=2)"
   ],
   "metadata": {
    "collapsed": false
   }
  },
  {
   "cell_type": "code",
   "execution_count": 13,
   "outputs": [],
   "source": [
    "optimizer_s_on_f.compute_train_set(num_designs=500, runs=N)"
   ],
   "metadata": {
    "collapsed": false
   }
  },
  {
   "cell_type": "code",
   "execution_count": 14,
   "outputs": [
    {
     "data": {
      "text/plain": "array([[-0.71917567,  0.59519549, -0.90071383, ..., -0.17681466,\n        -0.7645676 , -0.54896674],\n       [-0.47536967,  0.49895002,  0.03942093, ..., -0.52461752,\n         0.58070776,  0.53693728],\n       [-0.2553055 , -0.03065498,  0.8267682 , ...,  0.39983805,\n        -0.06146488, -0.06202297],\n       ...,\n       [ 0.60968423,  0.84673001,  0.6348669 , ..., -0.54734347,\n        -0.02883501, -0.45212689],\n       [ 0.57272474,  0.63002685, -0.47339802, ...,  0.87627903,\n        -0.87055157, -0.51004914],\n       [ 0.46159505,  0.00432238,  0.20606608, ...,  0.22053687,\n         0.62710504,  0.77270811]])"
     },
     "execution_count": 14,
     "metadata": {},
     "output_type": "execute_result"
    }
   ],
   "source": [
    "optimizer_s_on_f.train_set"
   ],
   "metadata": {
    "collapsed": false
   }
  },
  {
   "cell_type": "code",
   "execution_count": 15,
   "outputs": [
    {
     "name": "stdout",
     "output_type": "stream",
     "text": [
      "Epoch 1/100\n",
      "13/13 [==============================] - 1s 10ms/step - loss: 101389.3516 - val_loss: 14496.6621\n",
      "Epoch 2/100\n",
      "13/13 [==============================] - 0s 2ms/step - loss: 10999.4629 - val_loss: 8241.6660\n",
      "Epoch 3/100\n",
      "13/13 [==============================] - 0s 2ms/step - loss: 6619.3101 - val_loss: 5156.5649\n",
      "Epoch 4/100\n",
      "13/13 [==============================] - 0s 2ms/step - loss: 4244.4883 - val_loss: 3332.5391\n",
      "Epoch 5/100\n",
      "13/13 [==============================] - 0s 2ms/step - loss: 2795.4619 - val_loss: 2155.7205\n",
      "Epoch 6/100\n",
      "13/13 [==============================] - 0s 2ms/step - loss: 1844.0217 - val_loss: 1382.0808\n",
      "Epoch 7/100\n",
      "13/13 [==============================] - 0s 2ms/step - loss: 1202.0732 - val_loss: 886.5054\n",
      "Epoch 8/100\n",
      "13/13 [==============================] - 0s 2ms/step - loss: 768.7678 - val_loss: 554.4091\n",
      "Epoch 9/100\n",
      "13/13 [==============================] - 0s 2ms/step - loss: 483.2552 - val_loss: 354.6395\n",
      "Epoch 10/100\n",
      "13/13 [==============================] - 0s 2ms/step - loss: 303.3669 - val_loss: 226.0415\n",
      "Epoch 11/100\n",
      "13/13 [==============================] - 0s 2ms/step - loss: 187.3867 - val_loss: 142.4995\n",
      "Epoch 12/100\n",
      "13/13 [==============================] - 0s 2ms/step - loss: 116.4828 - val_loss: 89.9790\n",
      "Epoch 13/100\n",
      "13/13 [==============================] - 0s 2ms/step - loss: 74.0683 - val_loss: 57.5799\n",
      "Epoch 14/100\n",
      "13/13 [==============================] - 0s 2ms/step - loss: 47.7883 - val_loss: 37.6382\n",
      "Epoch 15/100\n",
      "13/13 [==============================] - 0s 2ms/step - loss: 31.4801 - val_loss: 24.9414\n",
      "Epoch 16/100\n",
      "13/13 [==============================] - 0s 2ms/step - loss: 21.0506 - val_loss: 16.9728\n",
      "Epoch 17/100\n",
      "13/13 [==============================] - 0s 2ms/step - loss: 14.5745 - val_loss: 11.9394\n",
      "Epoch 18/100\n",
      "13/13 [==============================] - 0s 2ms/step - loss: 10.4147 - val_loss: 8.7766\n",
      "Epoch 19/100\n",
      "13/13 [==============================] - 0s 2ms/step - loss: 7.7851 - val_loss: 6.7166\n",
      "Epoch 20/100\n",
      "13/13 [==============================] - 0s 2ms/step - loss: 6.0643 - val_loss: 5.3648\n",
      "Epoch 21/100\n",
      "13/13 [==============================] - 0s 2ms/step - loss: 4.9251 - val_loss: 4.4771\n",
      "Epoch 22/100\n",
      "13/13 [==============================] - 0s 2ms/step - loss: 4.1800 - val_loss: 3.8847\n",
      "Epoch 23/100\n",
      "13/13 [==============================] - 0s 2ms/step - loss: 3.6837 - val_loss: 3.4851\n",
      "Epoch 24/100\n",
      "13/13 [==============================] - 0s 2ms/step - loss: 3.3515 - val_loss: 3.2220\n",
      "Epoch 25/100\n",
      "13/13 [==============================] - 0s 2ms/step - loss: 3.1341 - val_loss: 3.0496\n",
      "Epoch 26/100\n",
      "13/13 [==============================] - 0s 2ms/step - loss: 2.9937 - val_loss: 2.9405\n",
      "Epoch 27/100\n",
      "13/13 [==============================] - 0s 2ms/step - loss: 2.9059 - val_loss: 2.8731\n",
      "Epoch 28/100\n",
      "13/13 [==============================] - 0s 2ms/step - loss: 2.8523 - val_loss: 2.8326\n",
      "Epoch 29/100\n",
      "13/13 [==============================] - 0s 2ms/step - loss: 2.8203 - val_loss: 2.8088\n",
      "Epoch 30/100\n",
      "13/13 [==============================] - 0s 2ms/step - loss: 2.8017 - val_loss: 2.7951\n",
      "Epoch 31/100\n",
      "13/13 [==============================] - 0s 2ms/step - loss: 2.7911 - val_loss: 2.7875\n",
      "Epoch 32/100\n",
      "13/13 [==============================] - 0s 2ms/step - loss: 2.7853 - val_loss: 2.7832\n",
      "Epoch 33/100\n",
      "13/13 [==============================] - 0s 2ms/step - loss: 2.7820 - val_loss: 2.7809\n",
      "Epoch 34/100\n",
      "13/13 [==============================] - 0s 2ms/step - loss: 2.7803 - val_loss: 2.7797\n",
      "Epoch 35/100\n",
      "13/13 [==============================] - 0s 2ms/step - loss: 2.7793 - val_loss: 2.7790\n",
      "Epoch 36/100\n",
      "13/13 [==============================] - 0s 2ms/step - loss: 2.7788 - val_loss: 2.7786\n",
      "Epoch 37/100\n",
      "13/13 [==============================] - 0s 2ms/step - loss: 2.7785 - val_loss: 2.7785\n",
      "Epoch 38/100\n",
      "13/13 [==============================] - 0s 2ms/step - loss: 2.7784 - val_loss: 2.7784\n",
      "Epoch 39/100\n",
      "13/13 [==============================] - 0s 2ms/step - loss: 2.7783 - val_loss: 2.7783\n",
      "Epoch 40/100\n",
      "13/13 [==============================] - 0s 2ms/step - loss: 2.7783 - val_loss: 2.7783\n",
      "Epoch 41/100\n",
      "13/13 [==============================] - 0s 2ms/step - loss: 2.7783 - val_loss: 2.7783\n",
      "Epoch 42/100\n",
      "13/13 [==============================] - 0s 2ms/step - loss: 2.7783 - val_loss: 2.7783\n",
      "Epoch 43/100\n",
      "13/13 [==============================] - 0s 2ms/step - loss: 2.7783 - val_loss: 2.7783\n",
      "Epoch 44/100\n",
      "13/13 [==============================] - 0s 2ms/step - loss: 2.7783 - val_loss: 2.7783\n",
      "Epoch 45/100\n",
      "13/13 [==============================] - 0s 2ms/step - loss: 2.7783 - val_loss: 2.7783\n",
      "Epoch 46/100\n",
      "13/13 [==============================] - 0s 2ms/step - loss: 2.7783 - val_loss: 2.7783\n",
      "Epoch 47/100\n",
      "13/13 [==============================] - 0s 2ms/step - loss: 2.7783 - val_loss: 2.7783\n",
      "Epoch 48/100\n",
      "13/13 [==============================] - 0s 2ms/step - loss: 2.7783 - val_loss: 2.7783\n",
      "Epoch 49/100\n",
      "13/13 [==============================] - 0s 2ms/step - loss: 2.7783 - val_loss: 2.7783\n",
      "Epoch 50/100\n",
      "13/13 [==============================] - 0s 2ms/step - loss: 2.7783 - val_loss: 2.7783\n",
      "Epoch 51/100\n",
      "13/13 [==============================] - 0s 2ms/step - loss: 2.7783 - val_loss: 2.7783\n",
      "Epoch 52/100\n",
      "13/13 [==============================] - 0s 2ms/step - loss: 2.7783 - val_loss: 2.7783\n",
      "Epoch 53/100\n",
      "13/13 [==============================] - 0s 2ms/step - loss: 2.7783 - val_loss: 2.7783\n",
      "Epoch 54/100\n",
      "13/13 [==============================] - 0s 2ms/step - loss: 2.7783 - val_loss: 2.7783\n",
      "Epoch 55/100\n",
      "13/13 [==============================] - 0s 2ms/step - loss: 2.7783 - val_loss: 2.7783\n",
      "Epoch 56/100\n",
      "13/13 [==============================] - 0s 2ms/step - loss: 2.7783 - val_loss: 2.7783\n",
      "Epoch 57/100\n",
      "13/13 [==============================] - 0s 2ms/step - loss: 2.7783 - val_loss: 2.7783\n",
      "Epoch 58/100\n",
      "13/13 [==============================] - 0s 2ms/step - loss: 2.7783 - val_loss: 2.7783\n",
      "Epoch 59/100\n",
      "13/13 [==============================] - 0s 2ms/step - loss: 2.7783 - val_loss: 2.7783\n",
      "Epoch 60/100\n",
      "13/13 [==============================] - 0s 2ms/step - loss: 2.7783 - val_loss: 2.7783\n",
      "Epoch 61/100\n",
      "13/13 [==============================] - 0s 2ms/step - loss: 2.7783 - val_loss: 2.7783\n",
      "Epoch 62/100\n",
      "13/13 [==============================] - 0s 2ms/step - loss: 2.7783 - val_loss: 2.7783\n",
      "Epoch 63/100\n",
      "13/13 [==============================] - 0s 2ms/step - loss: 2.7783 - val_loss: 2.7783\n",
      "Epoch 64/100\n",
      "13/13 [==============================] - 0s 2ms/step - loss: 2.7783 - val_loss: 2.7783\n",
      "Epoch 65/100\n",
      "13/13 [==============================] - 0s 2ms/step - loss: 2.7783 - val_loss: 2.7783\n",
      "Epoch 66/100\n",
      "13/13 [==============================] - 0s 2ms/step - loss: 2.7783 - val_loss: 2.7783\n",
      "Epoch 67/100\n",
      "13/13 [==============================] - 0s 2ms/step - loss: 2.7783 - val_loss: 2.7783\n",
      "Epoch 68/100\n",
      "13/13 [==============================] - 0s 2ms/step - loss: 2.7783 - val_loss: 2.7783\n",
      "Epoch 69/100\n",
      "13/13 [==============================] - 0s 2ms/step - loss: 2.7783 - val_loss: 2.7783\n",
      "Epoch 70/100\n",
      "13/13 [==============================] - 0s 2ms/step - loss: 2.7783 - val_loss: 2.7783\n",
      "Epoch 71/100\n",
      "13/13 [==============================] - 0s 2ms/step - loss: 2.7783 - val_loss: 2.7783\n",
      "Epoch 72/100\n",
      "13/13 [==============================] - 0s 2ms/step - loss: 2.7783 - val_loss: 2.7783\n",
      "Epoch 73/100\n",
      "13/13 [==============================] - 0s 2ms/step - loss: 2.7783 - val_loss: 2.7783\n",
      "Epoch 74/100\n",
      "13/13 [==============================] - 0s 2ms/step - loss: 2.7783 - val_loss: 2.7783\n",
      "Epoch 75/100\n",
      "13/13 [==============================] - 0s 2ms/step - loss: 2.7783 - val_loss: 2.7783\n",
      "Epoch 76/100\n",
      "13/13 [==============================] - 0s 2ms/step - loss: 2.7783 - val_loss: 2.7783\n",
      "Epoch 77/100\n",
      "13/13 [==============================] - 0s 2ms/step - loss: 2.7783 - val_loss: 2.7783\n",
      "Epoch 78/100\n",
      "13/13 [==============================] - 0s 2ms/step - loss: 2.7783 - val_loss: 2.7783\n",
      "Epoch 79/100\n",
      "13/13 [==============================] - 0s 2ms/step - loss: 2.7783 - val_loss: 2.7783\n",
      "Epoch 80/100\n",
      "13/13 [==============================] - 0s 2ms/step - loss: 2.7783 - val_loss: 2.7783\n",
      "Epoch 81/100\n",
      "13/13 [==============================] - 0s 2ms/step - loss: 2.7783 - val_loss: 2.7783\n",
      "Epoch 82/100\n",
      "13/13 [==============================] - 0s 2ms/step - loss: 2.7783 - val_loss: 2.7783\n",
      "Epoch 83/100\n",
      "13/13 [==============================] - 0s 2ms/step - loss: 2.7783 - val_loss: 2.7783\n",
      "Epoch 84/100\n",
      "13/13 [==============================] - 0s 2ms/step - loss: 2.7783 - val_loss: 2.7783\n",
      "Epoch 85/100\n",
      "13/13 [==============================] - 0s 2ms/step - loss: 2.7783 - val_loss: 2.7783\n",
      "Epoch 86/100\n",
      "13/13 [==============================] - 0s 2ms/step - loss: 2.7783 - val_loss: 2.7783\n",
      "Epoch 87/100\n",
      "13/13 [==============================] - 0s 2ms/step - loss: 2.7783 - val_loss: 2.7783\n",
      "Epoch 88/100\n",
      "13/13 [==============================] - 0s 2ms/step - loss: 2.7783 - val_loss: 2.7783\n",
      "Epoch 89/100\n",
      "13/13 [==============================] - 0s 2ms/step - loss: 2.7783 - val_loss: 2.7783\n",
      "Epoch 90/100\n",
      "13/13 [==============================] - 0s 2ms/step - loss: 2.7783 - val_loss: 2.7783\n",
      "Epoch 91/100\n",
      "13/13 [==============================] - 0s 2ms/step - loss: 2.7783 - val_loss: 2.7783\n",
      "Epoch 92/100\n",
      "13/13 [==============================] - 0s 2ms/step - loss: 2.7783 - val_loss: 2.7783\n",
      "Epoch 93/100\n",
      "13/13 [==============================] - 0s 2ms/step - loss: 2.7783 - val_loss: 2.7783\n",
      "Epoch 94/100\n",
      "13/13 [==============================] - 0s 2ms/step - loss: 2.7783 - val_loss: 2.7783\n",
      "Epoch 95/100\n",
      "13/13 [==============================] - 0s 2ms/step - loss: 2.7783 - val_loss: 2.7783\n",
      "Epoch 96/100\n",
      "13/13 [==============================] - 0s 2ms/step - loss: 2.7783 - val_loss: 2.7783\n",
      "Epoch 97/100\n",
      "13/13 [==============================] - 0s 2ms/step - loss: 2.7783 - val_loss: 2.7783\n",
      "Epoch 98/100\n",
      "13/13 [==============================] - 0s 2ms/step - loss: 2.7783 - val_loss: 2.7783\n"
     ]
    }
   ],
   "source": [
    "history = optimizer_s_on_f.fit(epochs=100)"
   ],
   "metadata": {
    "collapsed": false
   }
  },
  {
   "cell_type": "code",
   "execution_count": 16,
   "outputs": [
    {
     "name": "stdout",
     "output_type": "stream",
     "text": [
      "Iteration No: 1 started. Evaluating function at random point.\n",
      "1/1 [==============================] - 0s 87ms/step\n",
      "Iteration No: 1 ended. Evaluation done at random point.\n",
      "Time taken: 0.1524\n",
      "Function value obtained: 2.7783\n",
      "Current minimum: 2.7783\n",
      "Iteration No: 2 started. Evaluating function at random point.\n",
      "1/1 [==============================] - 0s 21ms/step\n",
      "Iteration No: 2 ended. Evaluation done at random point.\n",
      "Time taken: 0.0406\n",
      "Function value obtained: 2.7783\n",
      "Current minimum: 2.7783\n",
      "Iteration No: 3 started. Evaluating function at random point.\n",
      "1/1 [==============================] - 0s 13ms/step\n",
      "Iteration No: 3 ended. Evaluation done at random point.\n",
      "Time taken: 0.0367\n",
      "Function value obtained: 2.7784\n",
      "Current minimum: 2.7783\n",
      "Iteration No: 4 started. Evaluating function at random point.\n",
      "1/1 [==============================] - 0s 14ms/step\n",
      "Iteration No: 4 ended. Evaluation done at random point.\n",
      "Time taken: 0.0463\n",
      "Function value obtained: 2.7787\n",
      "Current minimum: 2.7783\n",
      "Iteration No: 5 started. Evaluating function at random point.\n",
      "1/1 [==============================] - 0s 16ms/step\n",
      "Iteration No: 5 ended. Evaluation done at random point.\n",
      "Time taken: 0.1103\n",
      "Function value obtained: 2.7854\n",
      "Current minimum: 2.7783\n",
      "Iteration No: 6 started. Searching for the next optimal point.\n",
      "1/1 [==============================] - 0s 18ms/step\n",
      "Iteration No: 6 ended. Search finished for the next optimal point.\n",
      "Time taken: 0.2838\n",
      "Function value obtained: 2.7783\n",
      "Current minimum: 2.7783\n",
      "Iteration No: 7 started. Searching for the next optimal point.\n",
      "1/1 [==============================] - 0s 26ms/step\n",
      "Iteration No: 7 ended. Search finished for the next optimal point.\n",
      "Time taken: 0.1075\n",
      "Function value obtained: 2.7783\n",
      "Current minimum: 2.7783\n",
      "Iteration No: 8 started. Searching for the next optimal point.\n",
      "1/1 [==============================] - 0s 19ms/step\n",
      "Iteration No: 8 ended. Search finished for the next optimal point.\n",
      "Time taken: 0.1355\n",
      "Function value obtained: 2.7854\n",
      "Current minimum: 2.7783\n",
      "Iteration No: 9 started. Searching for the next optimal point.\n",
      "1/1 [==============================] - 0s 12ms/step\n",
      "Iteration No: 9 ended. Search finished for the next optimal point.\n",
      "Time taken: 0.1394\n",
      "Function value obtained: 2.7854\n",
      "Current minimum: 2.7783\n",
      "Iteration No: 10 started. Searching for the next optimal point.\n",
      "1/1 [==============================] - 0s 15ms/step\n",
      "Iteration No: 10 ended. Search finished for the next optimal point.\n",
      "Time taken: 0.1099\n",
      "Function value obtained: 2.7783\n",
      "Current minimum: 2.7783\n",
      "1/1 [==============================] - 0s 21ms/step\n"
     ]
    }
   ],
   "source": [
    "best_cr, best_des = optimizer_s_on_f.optimize()"
   ],
   "metadata": {
    "collapsed": false
   }
  },
  {
   "cell_type": "code",
   "execution_count": 17,
   "outputs": [
    {
     "name": "stdout",
     "output_type": "stream",
     "text": [
      "[[ 1.  1. -1.]\n",
      " [ 1.  1. -1.]\n",
      " [ 1. -1. -1.]\n",
      " [-1. -1.  1.]\n",
      " [ 1.  1. -1.]\n",
      " [-1.  1.  1.]\n",
      " [-1.  1.  1.]\n",
      " [-1. -1.  1.]\n",
      " [-1.  1.  1.]\n",
      " [ 1.  1. -1.]\n",
      " [-1. -1.  1.]\n",
      " [-1. -1. -1.]]\n"
     ]
    }
   ],
   "source": [
    "print(np.round(best_des, 3))"
   ],
   "metadata": {
    "collapsed": false
   }
  },
  {
   "cell_type": "code",
   "execution_count": 5,
   "outputs": [],
   "source": [],
   "metadata": {
    "collapsed": false
   }
  }
 ],
 "metadata": {
  "kernelspec": {
   "display_name": "Python 3",
   "language": "python",
   "name": "python3"
  },
  "language_info": {
   "codemirror_mode": {
    "name": "ipython",
    "version": 2
   },
   "file_extension": ".py",
   "mimetype": "text/x-python",
   "name": "python",
   "nbconvert_exporter": "python",
   "pygments_lexer": "ipython2",
   "version": "2.7.6"
  }
 },
 "nbformat": 4,
 "nbformat_minor": 0
}
