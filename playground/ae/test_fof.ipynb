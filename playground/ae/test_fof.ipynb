{
 "cells": [
  {
   "cell_type": "code",
   "execution_count": 2,
   "metadata": {
    "collapsed": true
   },
   "outputs": [],
   "source": [
    "import sys\n",
    "import os\n",
    "import numpy as np\n",
    "\n",
    "sys.path.append(os.path.abspath(\"../../mathematical_models\"))\n",
    "from mathematical_models.f_on_f import FunctionOnFunctionModel\n",
    "\n",
    "sys.path.append(os.path.abspath(\"../../optimizers\"))\n",
    "from optimizers.nbdo import NBDO\n",
    "\n",
    "sys.path.append(os.path.abspath(\"../../utilities\"))\n",
    "from utilities.plotting.plot_fun import subplot_results"
   ]
  },
  {
   "cell_type": "markdown",
   "source": [
    "### Settings"
   ],
   "metadata": {
    "collapsed": false
   }
  },
  {
   "cell_type": "code",
   "execution_count": 4,
   "outputs": [],
   "source": [
    "N = 4 # runs\n",
    "Kx_family = 'step'\n",
    "Kx = [[6]]\n",
    "Kb = [[4]] # Polynomial\n",
    "Ky = 2\n",
    "Sigma_decay = 0\n",
    "epochs = 100\n",
    "model = FunctionOnFunctionModel(Kx=Kx[0], Kb= Kb[0], Kx_family=Kx_family, Ky=Ky, Sigma_decay=Sigma_decay)"
   ],
   "metadata": {
    "collapsed": false
   }
  },
  {
   "cell_type": "code",
   "execution_count": 5,
   "outputs": [
    {
     "ename": "ValueError",
     "evalue": "matmul: Input operand 1 has a mismatch in its core dimension 0, with gufunc signature (n?,k),(k,m?)->(n?,m?) (size 7 is different from 6)",
     "output_type": "error",
     "traceback": [
      "\u001B[0;31m---------------------------------------------------------------------------\u001B[0m",
      "\u001B[0;31mValueError\u001B[0m                                Traceback (most recent call last)",
      "Cell \u001B[0;32mIn[5], line 2\u001B[0m\n\u001B[1;32m      1\u001B[0m optimizer \u001B[38;5;241m=\u001B[39m NBDO(model\u001B[38;5;241m=\u001B[39mmodel, latent_dim\u001B[38;5;241m=\u001B[39m\u001B[38;5;241m2\u001B[39m)\n\u001B[0;32m----> 2\u001B[0m \u001B[43moptimizer\u001B[49m\u001B[38;5;241;43m.\u001B[39;49m\u001B[43mcompute_train_set\u001B[49m\u001B[43m(\u001B[49m\u001B[43mnum_designs\u001B[49m\u001B[38;5;241;43m=\u001B[39;49m\u001B[38;5;241;43m500\u001B[39;49m\u001B[43m,\u001B[49m\u001B[43m \u001B[49m\u001B[43mruns\u001B[49m\u001B[38;5;241;43m=\u001B[39;49m\u001B[43mN\u001B[49m\u001B[43m)\u001B[49m\n\u001B[1;32m      3\u001B[0m history \u001B[38;5;241m=\u001B[39m optimizer\u001B[38;5;241m.\u001B[39mfit(epochs\u001B[38;5;241m=\u001B[39mepochs)\n",
      "File \u001B[0;32m~/Documents/code/system_optidex/optimizers/nbdo.py:178\u001B[0m, in \u001B[0;36mNBDO.compute_train_set\u001B[0;34m(self, num_designs, runs, epsilon)\u001B[0m\n\u001B[1;32m    176\u001B[0m \u001B[38;5;28;01melse\u001B[39;00m:\n\u001B[1;32m    177\u001B[0m     candidate_matrix \u001B[38;5;241m=\u001B[39m np\u001B[38;5;241m.\u001B[39mrandom\u001B[38;5;241m.\u001B[39muniform(\u001B[38;5;241m-\u001B[39m\u001B[38;5;241m1\u001B[39m, \u001B[38;5;241m1\u001B[39m, size\u001B[38;5;241m=\u001B[39m(runs, \u001B[38;5;28mself\u001B[39m\u001B[38;5;241m.\u001B[39mmodel\u001B[38;5;241m.\u001B[39mKx[\u001B[38;5;241m0\u001B[39m]))\n\u001B[0;32m--> 178\u001B[0m     Z \u001B[38;5;241m=\u001B[39m np\u001B[38;5;241m.\u001B[39mhstack((np\u001B[38;5;241m.\u001B[39mones((runs, \u001B[38;5;241m1\u001B[39m)), \u001B[43mcandidate_matrix\u001B[49m\u001B[43m \u001B[49m\u001B[38;5;241;43m@\u001B[39;49m\u001B[43m \u001B[49m\u001B[38;5;28;43mself\u001B[39;49m\u001B[38;5;241;43m.\u001B[39;49m\u001B[43mmodel\u001B[49m\u001B[38;5;241;43m.\u001B[39;49m\u001B[43mJ_cb\u001B[49m))\n\u001B[1;32m    179\u001B[0m     ZtZ \u001B[38;5;241m=\u001B[39m Z\u001B[38;5;241m.\u001B[39mT \u001B[38;5;241m@\u001B[39m Z\n\u001B[1;32m    180\u001B[0m \u001B[38;5;28;01mif\u001B[39;00m np\u001B[38;5;241m.\u001B[39mlinalg\u001B[38;5;241m.\u001B[39mdet(ZtZ) \u001B[38;5;241m>\u001B[39m epsilon:\n",
      "\u001B[0;31mValueError\u001B[0m: matmul: Input operand 1 has a mismatch in its core dimension 0, with gufunc signature (n?,k),(k,m?)->(n?,m?) (size 7 is different from 6)"
     ]
    }
   ],
   "source": [
    "optimizer = NBDO(model=model, latent_dim=2)\n",
    "optimizer.compute_train_set(num_designs=500, runs=N)\n",
    "history = optimizer.fit(epochs=epochs)"
   ],
   "metadata": {
    "collapsed": false
   }
  },
  {
   "cell_type": "code",
   "execution_count": 6,
   "outputs": [
    {
     "name": "stdout",
     "output_type": "stream",
     "text": [
      "[[1.    0.    0.    0.    0.   ]\n",
      " [0.    0.167 0.014 0.002 0.   ]\n",
      " [0.    0.167 0.042 0.011 0.003]\n",
      " [0.    0.167 0.069 0.029 0.013]\n",
      " [0.    0.167 0.097 0.057 0.034]\n",
      " [0.    0.167 0.125 0.094 0.071]\n",
      " [0.    0.167 0.153 0.14  0.129]]\n"
     ]
    }
   ],
   "source": [
    "print(np.round(model.J_cb, 3))"
   ],
   "metadata": {
    "collapsed": false
   }
  },
  {
   "cell_type": "code",
   "execution_count": null,
   "outputs": [],
   "source": [],
   "metadata": {
    "collapsed": false
   }
  }
 ],
 "metadata": {
  "kernelspec": {
   "display_name": "Python 3",
   "language": "python",
   "name": "python3"
  },
  "language_info": {
   "codemirror_mode": {
    "name": "ipython",
    "version": 2
   },
   "file_extension": ".py",
   "mimetype": "text/x-python",
   "name": "python",
   "nbconvert_exporter": "python",
   "pygments_lexer": "ipython2",
   "version": "2.7.6"
  }
 },
 "nbformat": 4,
 "nbformat_minor": 0
}
