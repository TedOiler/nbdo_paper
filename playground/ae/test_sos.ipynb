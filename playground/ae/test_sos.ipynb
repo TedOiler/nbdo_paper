{
 "cells": [
  {
   "cell_type": "code",
   "execution_count": 2,
   "metadata": {
    "collapsed": true
   },
   "outputs": [],
   "source": [
    "import sys\n",
    "import os\n",
    "import numpy as np\n",
    "\n",
    "sys.path.append(os.path.abspath(\"../../mathematical_models\"))\n",
    "from mathematical_models.s_on_f import ScalarOnFunctionModel\n",
    "from mathematical_models.f_on_f import FunctionOnFunctionModel\n",
    "from mathematical_models.s_on_s import ScalarOnScalarModel\n",
    "\n",
    "sys.path.append(os.path.abspath(\"../../optimizers\"))\n",
    "from optimizers.nbdo import NBDO\n",
    "\n",
    "sys.path.append(os.path.abspath(\"../../utilities\"))\n",
    "from utilities.plotting.plot_fun import subplot_results"
   ]
  },
  {
   "cell_type": "markdown",
   "source": [
    "### Settings"
   ],
   "metadata": {
    "collapsed": false
   }
  },
  {
   "cell_type": "code",
   "execution_count": 3,
   "outputs": [],
   "source": [
    "N = 24 # runs\n",
    "Kx = [[5]]\n",
    "epochs = 100\n",
    "order = 1\n",
    "s_on_s_model = ScalarOnScalarModel(Kx=Kx[0], order=order)"
   ],
   "metadata": {
    "collapsed": false
   }
  },
  {
   "cell_type": "code",
   "execution_count": 4,
   "outputs": [
    {
     "name": "stdout",
     "output_type": "stream",
     "text": [
      "Epoch 1/100\n"
     ]
    },
    {
     "name": "stderr",
     "output_type": "stream",
     "text": [
      "2024-09-04 19:23:57.870536: W tensorflow/tsl/platform/profile_utils/cpu_utils.cc:128] Failed to get CPU frequency: 0 Hz\n"
     ]
    },
    {
     "ename": "OperatorNotAllowedInGraphError",
     "evalue": "in user code:\n\n    File \"/Users/thodorisladas/miniforge3/envs/optidex/lib/python3.10/site-packages/keras/engine/training.py\", line 1249, in train_function  *\n        return step_function(self, iterator)\n    File \"/Users/thodorisladas/Documents/code/system_optidex/optimizers/nbdo.py\", line 162, in custom_loss  *\n        objective_value = self.model.compute_objective_tf(y_pred, m, n)\n    File \"/Users/thodorisladas/Documents/code/system_optidex/mathematical_models/s_on_s.py\", line 73, in compute_objective_tf  *\n        Z_t_Z = self.calc_covar_matrix_tf(X)\n    File \"/Users/thodorisladas/Documents/code/system_optidex/mathematical_models/s_on_s.py\", line 67, in calc_covar_matrix_tf  *\n        model_mat = self.calc_model_matrix_tf(Model_mat)\n    File \"/Users/thodorisladas/Documents/code/system_optidex/mathematical_models/s_on_s.py\", line 60, in calc_model_matrix_tf  *\n        for combo in combinations_with_replacement(range(n_features), o):\n\n    OperatorNotAllowedInGraphError: Iterating over a symbolic `tf.Tensor` is not allowed: AutoGraph did convert this function. This might indicate you are trying to use an unsupported feature.\n",
     "output_type": "error",
     "traceback": [
      "\u001B[0;31m---------------------------------------------------------------------------\u001B[0m",
      "\u001B[0;31mOperatorNotAllowedInGraphError\u001B[0m            Traceback (most recent call last)",
      "Cell \u001B[0;32mIn[4], line 3\u001B[0m\n\u001B[1;32m      1\u001B[0m optimizer_s_on_s \u001B[38;5;241m=\u001B[39m NBDO(model\u001B[38;5;241m=\u001B[39ms_on_s_model, latent_dim\u001B[38;5;241m=\u001B[39m\u001B[38;5;241m4\u001B[39m)\n\u001B[1;32m      2\u001B[0m optimizer_s_on_s\u001B[38;5;241m.\u001B[39mcompute_train_set(num_designs\u001B[38;5;241m=\u001B[39m\u001B[38;5;241m1_000\u001B[39m, runs\u001B[38;5;241m=\u001B[39mN)\n\u001B[0;32m----> 3\u001B[0m history \u001B[38;5;241m=\u001B[39m \u001B[43moptimizer_s_on_s\u001B[49m\u001B[38;5;241;43m.\u001B[39;49m\u001B[43mfit\u001B[49m\u001B[43m(\u001B[49m\u001B[43mepochs\u001B[49m\u001B[38;5;241;43m=\u001B[39;49m\u001B[43mepochs\u001B[49m\u001B[43m)\u001B[49m\n",
      "File \u001B[0;32m~/Documents/code/system_optidex/optimizers/nbdo.py:197\u001B[0m, in \u001B[0;36mNBDO.fit\u001B[0;34m(self, epochs, batch_size, patience, optimizer)\u001B[0m\n\u001B[1;32m    195\u001B[0m early_stopping \u001B[38;5;241m=\u001B[39m EarlyStopping(monitor\u001B[38;5;241m=\u001B[39m\u001B[38;5;124m'\u001B[39m\u001B[38;5;124mval_loss\u001B[39m\u001B[38;5;124m'\u001B[39m, patience\u001B[38;5;241m=\u001B[39mpatience, restore_best_weights\u001B[38;5;241m=\u001B[39m\u001B[38;5;28;01mTrue\u001B[39;00m)\n\u001B[1;32m    196\u001B[0m \u001B[38;5;28mself\u001B[39m\u001B[38;5;241m.\u001B[39mautoencoder\u001B[38;5;241m.\u001B[39mbuild(input_shape\u001B[38;5;241m=\u001B[39m(\u001B[38;5;28;01mNone\u001B[39;00m, \u001B[38;5;28mself\u001B[39m\u001B[38;5;241m.\u001B[39minput_dim))\n\u001B[0;32m--> 197\u001B[0m \u001B[38;5;28mself\u001B[39m\u001B[38;5;241m.\u001B[39mhistory \u001B[38;5;241m=\u001B[39m \u001B[38;5;28;43mself\u001B[39;49m\u001B[38;5;241;43m.\u001B[39;49m\u001B[43mautoencoder\u001B[49m\u001B[38;5;241;43m.\u001B[39;49m\u001B[43mfit\u001B[49m\u001B[43m(\u001B[49m\u001B[38;5;28;43mself\u001B[39;49m\u001B[38;5;241;43m.\u001B[39;49m\u001B[43mtrain_set\u001B[49m\u001B[43m,\u001B[49m\u001B[43m \u001B[49m\u001B[38;5;28;43mself\u001B[39;49m\u001B[38;5;241;43m.\u001B[39;49m\u001B[43mtrain_set\u001B[49m\u001B[43m,\u001B[49m\n\u001B[1;32m    198\u001B[0m \u001B[43m                                    \u001B[49m\u001B[43mepochs\u001B[49m\u001B[38;5;241;43m=\u001B[39;49m\u001B[43mepochs\u001B[49m\u001B[43m,\u001B[49m\n\u001B[1;32m    199\u001B[0m \u001B[43m                                    \u001B[49m\u001B[43mbatch_size\u001B[49m\u001B[38;5;241;43m=\u001B[39;49m\u001B[43mbatch_size\u001B[49m\u001B[43m,\u001B[49m\n\u001B[1;32m    200\u001B[0m \u001B[43m                                    \u001B[49m\u001B[43mvalidation_data\u001B[49m\u001B[38;5;241;43m=\u001B[39;49m\u001B[43m(\u001B[49m\u001B[38;5;28;43mself\u001B[39;49m\u001B[38;5;241;43m.\u001B[39;49m\u001B[43mval_set\u001B[49m\u001B[43m,\u001B[49m\u001B[43m \u001B[49m\u001B[38;5;28;43mself\u001B[39;49m\u001B[38;5;241;43m.\u001B[39;49m\u001B[43mval_set\u001B[49m\u001B[43m)\u001B[49m\u001B[43m,\u001B[49m\n\u001B[1;32m    201\u001B[0m \u001B[43m                                    \u001B[49m\u001B[43mcallbacks\u001B[49m\u001B[38;5;241;43m=\u001B[39;49m\u001B[43m[\u001B[49m\u001B[43mearly_stopping\u001B[49m\u001B[43m]\u001B[49m\u001B[43m)\u001B[49m\n\u001B[1;32m    203\u001B[0m \u001B[38;5;28;01mreturn\u001B[39;00m \u001B[38;5;28mself\u001B[39m\u001B[38;5;241m.\u001B[39mhistory\n",
      "File \u001B[0;32m~/miniforge3/envs/optidex/lib/python3.10/site-packages/keras/utils/traceback_utils.py:70\u001B[0m, in \u001B[0;36mfilter_traceback.<locals>.error_handler\u001B[0;34m(*args, **kwargs)\u001B[0m\n\u001B[1;32m     67\u001B[0m     filtered_tb \u001B[38;5;241m=\u001B[39m _process_traceback_frames(e\u001B[38;5;241m.\u001B[39m__traceback__)\n\u001B[1;32m     68\u001B[0m     \u001B[38;5;66;03m# To get the full stack trace, call:\u001B[39;00m\n\u001B[1;32m     69\u001B[0m     \u001B[38;5;66;03m# `tf.debugging.disable_traceback_filtering()`\u001B[39;00m\n\u001B[0;32m---> 70\u001B[0m     \u001B[38;5;28;01mraise\u001B[39;00m e\u001B[38;5;241m.\u001B[39mwith_traceback(filtered_tb) \u001B[38;5;28;01mfrom\u001B[39;00m \u001B[38;5;28mNone\u001B[39m\n\u001B[1;32m     71\u001B[0m \u001B[38;5;28;01mfinally\u001B[39;00m:\n\u001B[1;32m     72\u001B[0m     \u001B[38;5;28;01mdel\u001B[39;00m filtered_tb\n",
      "File \u001B[0;32m~/miniforge3/envs/optidex/lib/python3.10/site-packages/tensorflow/python/framework/func_graph.py:1269\u001B[0m, in \u001B[0;36mfunc_graph_from_py_func.<locals>.autograph_handler\u001B[0;34m(*args, **kwargs)\u001B[0m\n\u001B[1;32m   1267\u001B[0m \u001B[38;5;28;01mexcept\u001B[39;00m \u001B[38;5;167;01mException\u001B[39;00m \u001B[38;5;28;01mas\u001B[39;00m e:  \u001B[38;5;66;03m# pylint:disable=broad-except\u001B[39;00m\n\u001B[1;32m   1268\u001B[0m   \u001B[38;5;28;01mif\u001B[39;00m \u001B[38;5;28mhasattr\u001B[39m(e, \u001B[38;5;124m\"\u001B[39m\u001B[38;5;124mag_error_metadata\u001B[39m\u001B[38;5;124m\"\u001B[39m):\n\u001B[0;32m-> 1269\u001B[0m     \u001B[38;5;28;01mraise\u001B[39;00m e\u001B[38;5;241m.\u001B[39mag_error_metadata\u001B[38;5;241m.\u001B[39mto_exception(e)\n\u001B[1;32m   1270\u001B[0m   \u001B[38;5;28;01melse\u001B[39;00m:\n\u001B[1;32m   1271\u001B[0m     \u001B[38;5;28;01mraise\u001B[39;00m\n",
      "\u001B[0;31mOperatorNotAllowedInGraphError\u001B[0m: in user code:\n\n    File \"/Users/thodorisladas/miniforge3/envs/optidex/lib/python3.10/site-packages/keras/engine/training.py\", line 1249, in train_function  *\n        return step_function(self, iterator)\n    File \"/Users/thodorisladas/Documents/code/system_optidex/optimizers/nbdo.py\", line 162, in custom_loss  *\n        objective_value = self.model.compute_objective_tf(y_pred, m, n)\n    File \"/Users/thodorisladas/Documents/code/system_optidex/mathematical_models/s_on_s.py\", line 73, in compute_objective_tf  *\n        Z_t_Z = self.calc_covar_matrix_tf(X)\n    File \"/Users/thodorisladas/Documents/code/system_optidex/mathematical_models/s_on_s.py\", line 67, in calc_covar_matrix_tf  *\n        model_mat = self.calc_model_matrix_tf(Model_mat)\n    File \"/Users/thodorisladas/Documents/code/system_optidex/mathematical_models/s_on_s.py\", line 60, in calc_model_matrix_tf  *\n        for combo in combinations_with_replacement(range(n_features), o):\n\n    OperatorNotAllowedInGraphError: Iterating over a symbolic `tf.Tensor` is not allowed: AutoGraph did convert this function. This might indicate you are trying to use an unsupported feature.\n"
     ]
    }
   ],
   "source": [
    "optimizer_s_on_s = NBDO(model=s_on_s_model, latent_dim=4)\n",
    "optimizer_s_on_s.compute_train_set(num_designs=1_000, runs=N)\n",
    "history = optimizer_s_on_s.fit(epochs=epochs)"
   ],
   "metadata": {
    "collapsed": false
   }
  },
  {
   "cell_type": "code",
   "execution_count": 5,
   "outputs": [
    {
     "name": "stdout",
     "output_type": "stream",
     "text": [
      "Iteration No: 1 started. Evaluating function at random point.\n",
      "1/1 [==============================] - 0s 59ms/step\n",
      "Iteration No: 1 ended. Evaluation done at random point.\n",
      "Time taken: 0.0979\n",
      "Function value obtained: 7.0236\n",
      "Current minimum: 7.0236\n",
      "Iteration No: 2 started. Evaluating function at random point.\n",
      "1/1 [==============================] - 0s 9ms/step\n",
      "Iteration No: 2 ended. Evaluation done at random point.\n",
      "Time taken: 0.0245\n",
      "Function value obtained: 7.0397\n",
      "Current minimum: 7.0236\n",
      "Iteration No: 3 started. Evaluating function at random point.\n",
      "1/1 [==============================] - 0s 8ms/step\n",
      "Iteration No: 3 ended. Evaluation done at random point.\n",
      "Time taken: 0.0229\n",
      "Function value obtained: 5.4473\n",
      "Current minimum: 5.4473\n",
      "Iteration No: 4 started. Evaluating function at random point.\n",
      "1/1 [==============================] - 0s 12ms/step\n",
      "Iteration No: 4 ended. Evaluation done at random point.\n",
      "Time taken: 0.0256\n",
      "Function value obtained: 3.5725\n",
      "Current minimum: 3.5725\n",
      "Iteration No: 5 started. Evaluating function at random point.\n",
      "1/1 [==============================] - 0s 10ms/step\n",
      "Iteration No: 5 ended. Evaluation done at random point.\n",
      "Time taken: 0.1253\n",
      "Function value obtained: 4.5887\n",
      "Current minimum: 3.5725\n",
      "Iteration No: 6 started. Searching for the next optimal point.\n",
      "1/1 [==============================] - 0s 10ms/step\n",
      "Iteration No: 6 ended. Search finished for the next optimal point.\n",
      "Time taken: 0.1209\n",
      "Function value obtained: 14.3247\n",
      "Current minimum: 3.5725\n",
      "Iteration No: 7 started. Searching for the next optimal point.\n",
      "1/1 [==============================] - 0s 12ms/step\n",
      "Iteration No: 7 ended. Search finished for the next optimal point.\n",
      "Time taken: 0.0855\n",
      "Function value obtained: 2.4894\n",
      "Current minimum: 2.4894\n",
      "Iteration No: 8 started. Searching for the next optimal point.\n",
      "1/1 [==============================] - 0s 9ms/step\n",
      "Iteration No: 8 ended. Search finished for the next optimal point.\n",
      "Time taken: 0.0780\n",
      "Function value obtained: 11.6597\n",
      "Current minimum: 2.4894\n",
      "Iteration No: 9 started. Searching for the next optimal point.\n",
      "1/1 [==============================] - 0s 9ms/step\n",
      "Iteration No: 9 ended. Search finished for the next optimal point.\n",
      "Time taken: 0.0703\n",
      "Function value obtained: 8.2377\n",
      "Current minimum: 2.4894\n",
      "Iteration No: 10 started. Searching for the next optimal point.\n",
      "1/1 [==============================] - 0s 10ms/step\n",
      "Iteration No: 10 ended. Search finished for the next optimal point.\n",
      "Time taken: 0.0860\n",
      "Function value obtained: 2.4191\n",
      "Current minimum: 2.4191\n",
      "1/1 [==============================] - 0s 8ms/step\n"
     ]
    }
   ],
   "source": [
    "best_cr, best_des = optimizer_s_on_s.optimize()"
   ],
   "metadata": {
    "collapsed": false
   }
  },
  {
   "cell_type": "code",
   "execution_count": 7,
   "outputs": [
    {
     "name": "stdout",
     "output_type": "stream",
     "text": [
      "[[ 0.02441331  0.26136    -0.33270615 -0.17181681 -0.05859732]\n",
      " [-0.50537074  0.18516193  0.03489427 -0.6624551   0.34770757]\n",
      " [ 0.5130446   0.19772674 -0.12861443  0.15613754  0.22907995]\n",
      " [ 0.26292562 -0.11875507  0.07083628  0.15033314  0.46356642]\n",
      " [ 0.30730212 -0.28946683  0.13278474 -0.17912658  0.04701832]\n",
      " [-0.7156744  -0.00716581  0.4342425  -0.26347947 -0.2260786 ]\n",
      " [-0.19682075 -0.649097    0.16571647  0.11571792  0.13326521]\n",
      " [-0.04229975 -0.09577472  0.24881646 -0.30867484 -0.28512177]\n",
      " [-0.13734275  0.41831517  0.28368285 -0.3132838   0.3840341 ]\n",
      " [ 0.08650683 -0.0789809  -0.3626668   0.04341892  0.35813966]\n",
      " [-0.01147771 -0.11277858  0.2275215   0.7034796   0.52255404]\n",
      " [ 0.37203124 -0.3900067   0.35489482 -0.7561665   0.80261904]\n",
      " [-0.2446713  -0.10171866  0.28816348 -0.2600224   0.32948515]\n",
      " [ 0.41865218 -0.8487816   0.24245083 -0.49949655  0.46177745]\n",
      " [ 0.32041252 -0.06853209  0.74928445  0.68706733 -0.21938625]\n",
      " [ 0.45167434 -0.01155688  0.37207142  0.14272648 -0.50309694]\n",
      " [-0.16344017  0.28135845  0.1656384   0.24941583  0.08084116]\n",
      " [ 0.4799554   0.65197635  0.40949023 -0.12770697 -0.04659079]\n",
      " [ 0.24989824  0.3885779  -0.05639705  0.032117    0.5258629 ]\n",
      " [-0.00647867 -0.27922195  0.18160015  0.3211632  -0.43230847]\n",
      " [ 0.20284115 -0.07842952 -0.02305003 -0.27127972  0.14657983]\n",
      " [-0.0874666  -0.45140272  0.34525236  0.47245923 -0.30585554]\n",
      " [ 0.18763112 -0.06301162  0.42078137  0.2965303   0.4215665 ]\n",
      " [-0.1381338   0.10313484  0.41973948 -0.03974497  0.61254036]]\n"
     ]
    }
   ],
   "source": [
    "print(best_des)\n",
    "# 0.2551"
   ],
   "metadata": {
    "collapsed": false
   }
  },
  {
   "cell_type": "code",
   "execution_count": 8,
   "outputs": [
    {
     "data": {
      "text/plain": "2.419059936128866"
     },
     "execution_count": 8,
     "metadata": {},
     "output_type": "execute_result"
    }
   ],
   "source": [
    "best_cr"
   ],
   "metadata": {
    "collapsed": false
   }
  },
  {
   "cell_type": "code",
   "execution_count": 8,
   "outputs": [
    {
     "name": "stdout",
     "output_type": "stream",
     "text": [
      "[[24.  0.  0. -0. -2.]\n",
      " [ 0. 24.  0.  4. -2.]\n",
      " [ 0.  0. 24.  0.  2.]\n",
      " [-0.  4.  0. 24. -2.]\n",
      " [-2. -2.  2. -2. 24.]]\n"
     ]
    }
   ],
   "source": [
    "print(np.round(best_des.T @ best_des))"
   ],
   "metadata": {
    "collapsed": false
   }
  },
  {
   "cell_type": "code",
   "execution_count": 1,
   "outputs": [],
   "source": [
    "import tensorflow as tf\n",
    "\n",
    "def compute_objective_tf(self, X, m, n):\n",
    "    batch_size = tf.shape(X)[0]\n",
    "    ones = tf.ones((batch_size, m, 1))\n",
    "    X = tf.reshape(X, (-1, m, n))\n",
    "    Z = tf.concat([ones, tf.matmul(X, self.J_cb)], axis=2)\n",
    "\n",
    "    Z_t_Z = tf.matmul(Z, Z, transpose_a=True)\n",
    "    det = tf.linalg.det(Z_t_Z)\n",
    "    epsilon = 1e-6\n",
    "    condition = tf.abs(det)[:, None, None] < epsilon\n",
    "\n",
    "    diagonal = tf.linalg.diag_part(Z_t_Z) + epsilon\n",
    "    Z_t_Z_epsilon = Z_t_Z + tf.linalg.diag(diagonal - tf.linalg.diag_part(Z_t_Z))\n",
    "    Z_t_Z_regularized = tf.where(condition, Z_t_Z_epsilon, Z_t_Z)\n",
    "\n",
    "    M = tf.linalg.inv(Z_t_Z_regularized)\n",
    "    value = tf.linalg.trace(M)\n",
    "    return tf.where(value < 0, tf.constant(1e10), value)\n"
   ],
   "metadata": {
    "collapsed": false
   }
  },
  {
   "cell_type": "code",
   "execution_count": null,
   "outputs": [],
   "source": [],
   "metadata": {
    "collapsed": false
   }
  }
 ],
 "metadata": {
  "kernelspec": {
   "display_name": "Python 3",
   "language": "python",
   "name": "python3"
  },
  "language_info": {
   "codemirror_mode": {
    "name": "ipython",
    "version": 2
   },
   "file_extension": ".py",
   "mimetype": "text/x-python",
   "name": "python",
   "nbconvert_exporter": "python",
   "pygments_lexer": "ipython2",
   "version": "2.7.6"
  }
 },
 "nbformat": 4,
 "nbformat_minor": 0
}
