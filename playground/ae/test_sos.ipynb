{
 "cells": [
  {
   "cell_type": "code",
   "execution_count": 1,
   "metadata": {
    "collapsed": true
   },
   "outputs": [],
   "source": [
    "import sys\n",
    "import os\n",
    "import numpy as np\n",
    "\n",
    "sys.path.append(os.path.abspath(\"../../mathematical_models\"))\n",
    "from mathematical_models.s_on_f import ScalarOnFunctionModel\n",
    "from mathematical_models.f_on_f import FunctionOnFunctionModel\n",
    "from mathematical_models.s_on_s import ScalarOnScalarModel\n",
    "\n",
    "sys.path.append(os.path.abspath(\"../../optimizers\"))\n",
    "from optimizers.nbdo import NBDO\n",
    "\n",
    "sys.path.append(os.path.abspath(\"../../utilities\"))\n",
    "from utilities.plotting.plot_fun import subplot_results"
   ]
  },
  {
   "cell_type": "markdown",
   "source": [
    "### Settings"
   ],
   "metadata": {
    "collapsed": false
   }
  },
  {
   "cell_type": "code",
   "execution_count": 2,
   "outputs": [],
   "source": [
    "N = 80 # runs\n",
    "Kx = [[20]]\n",
    "epochs = 100\n",
    "s_on_s_model = ScalarOnScalarModel(Kx=Kx[0])"
   ],
   "metadata": {
    "collapsed": false
   }
  },
  {
   "cell_type": "code",
   "execution_count": 3,
   "outputs": [
    {
     "name": "stdout",
     "output_type": "stream",
     "text": [
      "Epoch 1/100\n"
     ]
    },
    {
     "name": "stderr",
     "output_type": "stream",
     "text": [
      "2024-08-20 18:48:14.456596: W tensorflow/tsl/platform/profile_utils/cpu_utils.cc:128] Failed to get CPU frequency: 0 Hz\n"
     ]
    },
    {
     "name": "stdout",
     "output_type": "stream",
     "text": [
      "25/25 [==============================] - 1s 22ms/step - loss: 661588.6250 - val_loss: 1.8075\n",
      "Epoch 2/100\n",
      "25/25 [==============================] - 0s 17ms/step - loss: 0.9682 - val_loss: 0.4993\n",
      "Epoch 3/100\n",
      "25/25 [==============================] - 0s 14ms/step - loss: 0.3811 - val_loss: 0.3097\n",
      "Epoch 4/100\n",
      "25/25 [==============================] - 0s 14ms/step - loss: 0.2920 - val_loss: 0.2811\n",
      "Epoch 5/100\n",
      "25/25 [==============================] - 0s 13ms/step - loss: 0.2779 - val_loss: 0.2761\n",
      "Epoch 6/100\n",
      "25/25 [==============================] - 0s 13ms/step - loss: 0.2754 - val_loss: 0.2747\n",
      "Epoch 7/100\n",
      "25/25 [==============================] - 0s 14ms/step - loss: 0.2743 - val_loss: 0.2739\n",
      "Epoch 8/100\n",
      "25/25 [==============================] - 0s 15ms/step - loss: 0.2739 - val_loss: 0.2738\n",
      "Epoch 9/100\n",
      "25/25 [==============================] - 0s 15ms/step - loss: 0.2738 - val_loss: 0.2738\n",
      "Epoch 10/100\n",
      "25/25 [==============================] - 0s 16ms/step - loss: 0.2738 - val_loss: 0.2738\n",
      "Epoch 11/100\n",
      "25/25 [==============================] - 0s 18ms/step - loss: 0.2738 - val_loss: 0.2738\n",
      "Epoch 12/100\n",
      "25/25 [==============================] - 0s 15ms/step - loss: 0.2738 - val_loss: 0.2738\n",
      "Epoch 13/100\n",
      "25/25 [==============================] - 0s 15ms/step - loss: 0.2738 - val_loss: 0.2738\n",
      "Epoch 14/100\n",
      "25/25 [==============================] - 0s 15ms/step - loss: 0.2738 - val_loss: 0.2738\n",
      "Epoch 15/100\n",
      "25/25 [==============================] - 0s 14ms/step - loss: 0.2738 - val_loss: 0.2738\n",
      "Epoch 16/100\n",
      "25/25 [==============================] - 0s 15ms/step - loss: 0.2738 - val_loss: 0.2738\n",
      "Epoch 17/100\n",
      "25/25 [==============================] - 0s 14ms/step - loss: 0.2737 - val_loss: 0.2737\n",
      "Epoch 18/100\n",
      "25/25 [==============================] - 0s 15ms/step - loss: 0.2737 - val_loss: 0.2737\n",
      "Epoch 19/100\n",
      "25/25 [==============================] - 0s 15ms/step - loss: 0.2737 - val_loss: 0.2737\n",
      "Epoch 20/100\n",
      "25/25 [==============================] - 0s 15ms/step - loss: 0.2737 - val_loss: 0.2737\n",
      "Epoch 21/100\n",
      "25/25 [==============================] - 0s 15ms/step - loss: 0.2737 - val_loss: 0.2737\n",
      "Epoch 22/100\n",
      "25/25 [==============================] - 0s 14ms/step - loss: 0.2737 - val_loss: 0.2737\n",
      "Epoch 23/100\n",
      "25/25 [==============================] - 0s 15ms/step - loss: 0.2737 - val_loss: 0.2737\n",
      "Epoch 24/100\n",
      "25/25 [==============================] - 0s 15ms/step - loss: 0.2737 - val_loss: 0.2737\n",
      "Epoch 25/100\n",
      "25/25 [==============================] - 0s 15ms/step - loss: 0.2737 - val_loss: 0.2737\n",
      "Epoch 26/100\n",
      "25/25 [==============================] - 0s 15ms/step - loss: 0.2737 - val_loss: 0.2737\n",
      "Epoch 27/100\n",
      "25/25 [==============================] - 0s 14ms/step - loss: 0.2737 - val_loss: 0.2737\n",
      "Epoch 28/100\n",
      "25/25 [==============================] - 0s 16ms/step - loss: 0.2737 - val_loss: 0.2737\n",
      "Epoch 29/100\n",
      "25/25 [==============================] - 0s 14ms/step - loss: 0.2737 - val_loss: 0.2737\n",
      "Epoch 30/100\n",
      "25/25 [==============================] - 0s 15ms/step - loss: 0.2737 - val_loss: 0.2737\n",
      "Epoch 31/100\n",
      "25/25 [==============================] - 0s 17ms/step - loss: 0.2737 - val_loss: 0.2737\n",
      "Epoch 32/100\n",
      "25/25 [==============================] - 0s 16ms/step - loss: 0.2737 - val_loss: 0.2737\n",
      "Epoch 33/100\n",
      "25/25 [==============================] - 0s 15ms/step - loss: 0.2737 - val_loss: 0.2737\n",
      "Epoch 34/100\n",
      "25/25 [==============================] - 0s 15ms/step - loss: 0.2737 - val_loss: 0.2737\n",
      "Epoch 35/100\n",
      "25/25 [==============================] - 0s 15ms/step - loss: 0.2737 - val_loss: 0.2737\n",
      "Epoch 36/100\n",
      "25/25 [==============================] - 0s 15ms/step - loss: 0.2737 - val_loss: 0.2737\n",
      "Epoch 37/100\n",
      "25/25 [==============================] - 0s 14ms/step - loss: 0.2737 - val_loss: 0.2737\n",
      "Epoch 38/100\n",
      "25/25 [==============================] - 0s 14ms/step - loss: 0.2737 - val_loss: 0.2737\n",
      "Epoch 39/100\n",
      "25/25 [==============================] - 0s 14ms/step - loss: 0.2737 - val_loss: 0.2737\n",
      "Epoch 40/100\n",
      "25/25 [==============================] - 0s 14ms/step - loss: 0.2737 - val_loss: 0.2737\n",
      "Epoch 41/100\n",
      "25/25 [==============================] - 0s 14ms/step - loss: 0.2737 - val_loss: 0.2737\n",
      "Epoch 42/100\n",
      "25/25 [==============================] - 0s 14ms/step - loss: 0.2737 - val_loss: 0.2737\n",
      "Epoch 43/100\n",
      "25/25 [==============================] - 0s 15ms/step - loss: 0.2737 - val_loss: 0.2737\n",
      "Epoch 44/100\n",
      "25/25 [==============================] - 0s 15ms/step - loss: 0.2737 - val_loss: 0.2737\n",
      "Epoch 45/100\n",
      "25/25 [==============================] - 0s 15ms/step - loss: 0.2737 - val_loss: 0.2737\n",
      "Epoch 46/100\n",
      "25/25 [==============================] - 0s 14ms/step - loss: 0.2737 - val_loss: 0.2737\n",
      "Epoch 47/100\n",
      "25/25 [==============================] - 0s 15ms/step - loss: 0.2737 - val_loss: 0.2737\n",
      "Epoch 48/100\n",
      "25/25 [==============================] - 0s 15ms/step - loss: 0.2737 - val_loss: 0.2737\n",
      "Epoch 49/100\n",
      "25/25 [==============================] - 0s 15ms/step - loss: 0.2737 - val_loss: 0.2737\n",
      "Epoch 50/100\n",
      "25/25 [==============================] - 0s 14ms/step - loss: 0.2737 - val_loss: 0.2737\n",
      "Epoch 51/100\n",
      "25/25 [==============================] - 0s 16ms/step - loss: 0.2737 - val_loss: 0.2737\n",
      "Epoch 52/100\n",
      "25/25 [==============================] - 0s 15ms/step - loss: 0.2737 - val_loss: 0.2737\n",
      "Epoch 53/100\n",
      "25/25 [==============================] - 0s 15ms/step - loss: 0.2737 - val_loss: 0.2737\n",
      "Epoch 54/100\n",
      "25/25 [==============================] - 0s 15ms/step - loss: 0.2737 - val_loss: 0.2737\n",
      "Epoch 55/100\n",
      "25/25 [==============================] - 0s 16ms/step - loss: 0.2737 - val_loss: 0.2737\n",
      "Epoch 56/100\n",
      "25/25 [==============================] - 0s 16ms/step - loss: 0.2737 - val_loss: 0.2737\n",
      "Epoch 57/100\n",
      "25/25 [==============================] - 0s 15ms/step - loss: 0.2737 - val_loss: 0.2737\n",
      "Epoch 58/100\n",
      "25/25 [==============================] - 0s 14ms/step - loss: 0.2737 - val_loss: 0.2737\n",
      "Epoch 59/100\n",
      "25/25 [==============================] - 0s 14ms/step - loss: 0.2737 - val_loss: 0.2737\n",
      "Epoch 60/100\n",
      "25/25 [==============================] - 0s 15ms/step - loss: 0.2737 - val_loss: 0.2737\n",
      "Epoch 61/100\n",
      "25/25 [==============================] - 0s 15ms/step - loss: 0.2737 - val_loss: 0.2737\n",
      "Epoch 62/100\n",
      "25/25 [==============================] - 0s 15ms/step - loss: 0.2737 - val_loss: 0.2737\n",
      "Epoch 63/100\n",
      "25/25 [==============================] - 0s 15ms/step - loss: 0.2737 - val_loss: 0.2737\n",
      "Epoch 64/100\n",
      "25/25 [==============================] - 0s 15ms/step - loss: 0.2737 - val_loss: 0.2737\n",
      "Epoch 65/100\n",
      "25/25 [==============================] - 0s 14ms/step - loss: 0.2737 - val_loss: 0.2737\n",
      "Epoch 66/100\n",
      "25/25 [==============================] - 0s 14ms/step - loss: 0.2737 - val_loss: 0.2737\n",
      "Epoch 67/100\n",
      "25/25 [==============================] - 0s 15ms/step - loss: 0.2737 - val_loss: 0.2737\n",
      "Epoch 68/100\n",
      "25/25 [==============================] - 0s 15ms/step - loss: 0.2737 - val_loss: 0.2737\n",
      "Epoch 69/100\n",
      "25/25 [==============================] - 0s 14ms/step - loss: 0.2737 - val_loss: 0.2737\n",
      "Epoch 70/100\n",
      "25/25 [==============================] - 0s 15ms/step - loss: 0.2737 - val_loss: 0.2737\n",
      "Epoch 71/100\n",
      "25/25 [==============================] - 0s 14ms/step - loss: 0.2737 - val_loss: 0.2737\n",
      "Epoch 72/100\n",
      "25/25 [==============================] - 0s 15ms/step - loss: 0.2737 - val_loss: 0.2737\n",
      "Epoch 73/100\n",
      "25/25 [==============================] - 0s 17ms/step - loss: 0.2737 - val_loss: 0.2737\n",
      "Epoch 74/100\n",
      "25/25 [==============================] - 0s 17ms/step - loss: 0.2737 - val_loss: 0.2737\n",
      "Epoch 75/100\n",
      "25/25 [==============================] - 0s 17ms/step - loss: 0.2737 - val_loss: 0.2737\n",
      "Epoch 76/100\n",
      "25/25 [==============================] - 0s 17ms/step - loss: 0.2737 - val_loss: 0.2737\n",
      "Epoch 77/100\n",
      "25/25 [==============================] - 0s 18ms/step - loss: 0.2737 - val_loss: 0.2737\n",
      "Epoch 78/100\n",
      "25/25 [==============================] - 0s 17ms/step - loss: 0.2737 - val_loss: 0.2737\n",
      "Epoch 79/100\n",
      "25/25 [==============================] - 0s 19ms/step - loss: 0.2737 - val_loss: 0.2737\n",
      "Epoch 80/100\n",
      "25/25 [==============================] - 0s 16ms/step - loss: 0.2737 - val_loss: 0.2737\n",
      "Epoch 81/100\n",
      "25/25 [==============================] - 0s 15ms/step - loss: 0.2737 - val_loss: 0.2737\n",
      "Epoch 82/100\n",
      "25/25 [==============================] - 0s 14ms/step - loss: 0.2737 - val_loss: 0.2737\n",
      "Epoch 83/100\n",
      "25/25 [==============================] - 0s 16ms/step - loss: 0.2737 - val_loss: 0.2737\n",
      "Epoch 84/100\n",
      "25/25 [==============================] - 0s 14ms/step - loss: 0.2737 - val_loss: 0.2737\n",
      "Epoch 85/100\n",
      "25/25 [==============================] - 0s 16ms/step - loss: 0.2737 - val_loss: 0.2737\n",
      "Epoch 86/100\n",
      "25/25 [==============================] - 0s 15ms/step - loss: 0.2737 - val_loss: 0.2737\n",
      "Epoch 87/100\n",
      "25/25 [==============================] - 0s 15ms/step - loss: 0.2737 - val_loss: 0.2737\n",
      "Epoch 88/100\n",
      "25/25 [==============================] - 0s 15ms/step - loss: 0.2737 - val_loss: 0.2737\n",
      "Epoch 89/100\n",
      "25/25 [==============================] - 0s 16ms/step - loss: 0.2737 - val_loss: 0.2737\n",
      "Epoch 90/100\n",
      "25/25 [==============================] - 0s 14ms/step - loss: 0.2737 - val_loss: 0.2737\n",
      "Epoch 91/100\n",
      "25/25 [==============================] - 0s 16ms/step - loss: 0.2737 - val_loss: 0.2737\n",
      "Epoch 92/100\n",
      "25/25 [==============================] - 0s 15ms/step - loss: 0.2737 - val_loss: 0.2737\n",
      "Epoch 93/100\n",
      "25/25 [==============================] - 0s 16ms/step - loss: 0.2737 - val_loss: 0.2737\n",
      "Epoch 94/100\n",
      "25/25 [==============================] - 0s 17ms/step - loss: 0.2737 - val_loss: 0.2737\n",
      "Epoch 95/100\n",
      "25/25 [==============================] - 0s 16ms/step - loss: 0.2737 - val_loss: 0.2737\n",
      "Epoch 96/100\n",
      "25/25 [==============================] - 0s 20ms/step - loss: 0.2737 - val_loss: 0.2737\n",
      "Epoch 97/100\n",
      "25/25 [==============================] - 0s 16ms/step - loss: 0.2737 - val_loss: 0.2737\n",
      "Epoch 98/100\n",
      "25/25 [==============================] - 0s 15ms/step - loss: 0.2737 - val_loss: 0.2737\n",
      "Epoch 99/100\n",
      "25/25 [==============================] - 0s 16ms/step - loss: 0.2737 - val_loss: 0.2737\n",
      "Epoch 100/100\n",
      "25/25 [==============================] - 0s 16ms/step - loss: 0.2737 - val_loss: 0.2737\n"
     ]
    }
   ],
   "source": [
    "optimizer_s_on_s = NBDO(model=s_on_s_model, latent_dim=4)\n",
    "optimizer_s_on_s.compute_train_set(num_designs=1_000, runs=N)\n",
    "history = optimizer_s_on_s.fit(epochs=epochs)"
   ],
   "metadata": {
    "collapsed": false
   }
  },
  {
   "cell_type": "code",
   "execution_count": 4,
   "outputs": [
    {
     "name": "stdout",
     "output_type": "stream",
     "text": [
      "Iteration No: 1 started. Evaluating function at random point.\n",
      "1/1 [==============================] - 0s 65ms/step\n",
      "Iteration No: 1 ended. Evaluation done at random point.\n",
      "Time taken: 0.0913\n",
      "Function value obtained: 0.2799\n",
      "Current minimum: 0.2799\n",
      "Iteration No: 2 started. Evaluating function at random point.\n",
      "1/1 [==============================] - 0s 9ms/step\n",
      "Iteration No: 2 ended. Evaluation done at random point.\n",
      "Time taken: 0.0217\n",
      "Function value obtained: 0.2770\n",
      "Current minimum: 0.2770\n",
      "Iteration No: 3 started. Evaluating function at random point.\n",
      "1/1 [==============================] - 0s 9ms/step\n",
      "Iteration No: 3 ended. Evaluation done at random point.\n",
      "Time taken: 0.0204\n",
      "Function value obtained: 0.2741\n",
      "Current minimum: 0.2741\n",
      "Iteration No: 4 started. Evaluating function at random point.\n",
      "1/1 [==============================] - 0s 9ms/step\n",
      "Iteration No: 4 ended. Evaluation done at random point.\n",
      "Time taken: 0.0214\n",
      "Function value obtained: 0.2797\n",
      "Current minimum: 0.2741\n",
      "Iteration No: 5 started. Evaluating function at random point.\n",
      "1/1 [==============================] - 0s 8ms/step\n",
      "Iteration No: 5 ended. Evaluation done at random point.\n",
      "Time taken: 0.1128\n",
      "Function value obtained: 0.2738\n",
      "Current minimum: 0.2738\n",
      "Iteration No: 6 started. Searching for the next optimal point.\n",
      "1/1 [==============================] - 0s 9ms/step\n",
      "Iteration No: 6 ended. Search finished for the next optimal point.\n",
      "Time taken: 0.0810\n",
      "Function value obtained: 0.2825\n",
      "Current minimum: 0.2738\n",
      "Iteration No: 7 started. Searching for the next optimal point.\n",
      "1/1 [==============================] - 0s 9ms/step\n",
      "Iteration No: 7 ended. Search finished for the next optimal point.\n",
      "Time taken: 0.0837\n",
      "Function value obtained: 0.2738\n",
      "Current minimum: 0.2738\n",
      "Iteration No: 8 started. Searching for the next optimal point.\n",
      "1/1 [==============================] - 0s 9ms/step\n",
      "Iteration No: 8 ended. Search finished for the next optimal point.\n",
      "Time taken: 0.0794\n",
      "Function value obtained: 0.2737\n",
      "Current minimum: 0.2737\n",
      "Iteration No: 9 started. Searching for the next optimal point.\n",
      "1/1 [==============================] - 0s 9ms/step\n",
      "Iteration No: 9 ended. Search finished for the next optimal point.\n",
      "Time taken: 0.0744\n",
      "Function value obtained: 0.2938\n",
      "Current minimum: 0.2737\n",
      "Iteration No: 10 started. Searching for the next optimal point.\n",
      "1/1 [==============================] - 0s 8ms/step\n",
      "Iteration No: 10 ended. Search finished for the next optimal point.\n",
      "Time taken: 0.0659\n",
      "Function value obtained: 0.2769\n",
      "Current minimum: 0.2737\n",
      "1/1 [==============================] - 0s 8ms/step\n"
     ]
    }
   ],
   "source": [
    "best_cr, best_des = optimizer_s_on_s.optimize()"
   ],
   "metadata": {
    "collapsed": false
   }
  },
  {
   "cell_type": "code",
   "execution_count": 5,
   "outputs": [
    {
     "name": "stdout",
     "output_type": "stream",
     "text": [
      "[[ 1.  1. -1. ... -1. -1. -1.]\n",
      " [ 1. -1.  1. ... -1.  1.  1.]\n",
      " [ 1.  1.  1. ... -1. -1. -1.]\n",
      " ...\n",
      " [-1. -1. -1. ...  1. -1. -1.]\n",
      " [ 1.  1. -1. ...  1. -1. -1.]\n",
      " [ 1.  1. -1. ...  1. -1.  1.]]\n"
     ]
    }
   ],
   "source": [
    "print(np.round(best_des, 0))"
   ],
   "metadata": {
    "collapsed": false
   }
  },
  {
   "cell_type": "code",
   "execution_count": 6,
   "outputs": [
    {
     "data": {
      "text/plain": "0.27374523179748994"
     },
     "execution_count": 6,
     "metadata": {},
     "output_type": "execute_result"
    }
   ],
   "source": [
    "best_cr"
   ],
   "metadata": {
    "collapsed": false
   }
  },
  {
   "cell_type": "code",
   "execution_count": 10,
   "outputs": [
    {
     "name": "stdout",
     "output_type": "stream",
     "text": [
      "[[ 80.   0.  -8.   2.  -4.   4.   4.   6.   0.  -0.  -4.  -0.  -4.   0.\n",
      "    2.  -6.  -0.   2.   2.   4.]\n",
      " [  0.  80.   4.  -6.  -0.   0.   4.  -2.   4.   0.   0.   4.  -8.  -0.\n",
      "    2.  -2.   4.   2.   2.  -4.]\n",
      " [ -8.   4.  80.   2.  -0.  -4.   4.   2.  -0.   0.   0.  -4.  -4.  -8.\n",
      "   -2.  -2.  -8.  -2.   2.  -0.]\n",
      " [  2.  -6.   2.  80.   6.   2.   2.  -0.   2.  -2.   2.  -2.   2. -10.\n",
      "   -4.   0.   2.  -4.  -0.   6.]\n",
      " [ -4.  -0.  -0.   6.  80.  -4.   0.  -2.   0.  -0.   4.   0.   8.  -0.\n",
      "    2.  -6.  -4.  -2.   2.   4.]\n",
      " [  4.   0.  -4.   2.  -4.  80.   0.   2.   0.  -4.  -4.  -0.  -4.   4.\n",
      "   -6.  -2.  -0.  -2.   2.  -4.]\n",
      " [  4.   4.   4.   2.   0.   0.  80.   2.   4.  -4.   4.   8.   0.   0.\n",
      "   -2.  -2.  -0. -10.   2.  -0.]\n",
      " [  6.  -2.   2.  -0.  -2.   2.   2.  80.   6.  -6.  -2.  -6.  -2.  -2.\n",
      "    4.   0.   6.  -0.  -4.   6.]\n",
      " [  0.   4.  -0.   2.   0.   0.   4.   6.  80.  -0.   4.   4.  -4.  -8.\n",
      "    2.   2.  -0.  -2.   2.   0.]\n",
      " [ -0.   0.   0.  -2.  -0.  -4.  -4.  -6.  -0.  80.   8.   0.  -0.  -0.\n",
      "   -2.  -6.   4.   6.   2.   4.]\n",
      " [ -4.   0.   0.   2.   4.  -4.   4.  -2.   4.   8.  80.   4.   0.  -8.\n",
      "   -6.  -2.   0.  -2.   2.  -0.]\n",
      " [ -0.   4.  -4.  -2.   0.  -0.   8.  -6.   4.   0.   4.  80.   0.   4.\n",
      "   -2.  -2.   8.   2.   2.  -0.]\n",
      " [ -4.  -8.  -4.   2.   8.  -4.   0.  -2.  -4.  -0.   0.   0.  80.   0.\n",
      "   -6.   6.  -4.  -2.   2.  -4.]\n",
      " [  0.  -0.  -8. -10.  -0.   4.   0.  -2.  -8.  -0.  -8.   4.   0.  80.\n",
      "   -6.  -2.   4.  -2.   2.  -0.]\n",
      " [  2.   2.  -2.  -4.   2.  -6.  -2.   4.   2.  -2.  -6.  -2.  -6.  -6.\n",
      "   80.   0.   2.   0.  -0.   2.]\n",
      " [ -6.  -2.  -2.   0.  -6.  -2.  -2.   0.   2.  -6.  -2.  -2.   6.  -2.\n",
      "    0.  80.   2.  -0.   4.  -6.]\n",
      " [ -0.   4.  -8.   2.  -4.  -0.  -0.   6.  -0.   4.   0.   8.  -4.   4.\n",
      "    2.   2.  80.   2.   2.   8.]\n",
      " [  2.   2.  -2.  -4.  -2.  -2. -10.  -0.  -2.   6.  -2.   2.  -2.  -2.\n",
      "    0.  -0.   2.  80.  -0.   2.]\n",
      " [  2.   2.   2.  -0.   2.   2.   2.  -4.   2.   2.   2.   2.   2.   2.\n",
      "   -0.   4.   2.  -0.  80.  -2.]\n",
      " [  4.  -4.  -0.   6.   4.  -4.  -0.   6.   0.   4.  -0.  -0.  -4.  -0.\n",
      "    2.  -6.   8.   2.  -2.  80.]]\n"
     ]
    }
   ],
   "source": [
    "print(np.round(best_des.T @ best_des))"
   ],
   "metadata": {
    "collapsed": false
   }
  },
  {
   "cell_type": "code",
   "execution_count": 7,
   "outputs": [],
   "source": [],
   "metadata": {
    "collapsed": false
   }
  }
 ],
 "metadata": {
  "kernelspec": {
   "display_name": "Python 3",
   "language": "python",
   "name": "python3"
  },
  "language_info": {
   "codemirror_mode": {
    "name": "ipython",
    "version": 2
   },
   "file_extension": ".py",
   "mimetype": "text/x-python",
   "name": "python",
   "nbconvert_exporter": "python",
   "pygments_lexer": "ipython2",
   "version": "2.7.6"
  }
 },
 "nbformat": 4,
 "nbformat_minor": 0
}
