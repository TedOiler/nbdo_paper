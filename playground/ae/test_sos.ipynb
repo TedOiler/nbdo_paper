{
 "cells": [
  {
   "cell_type": "code",
   "execution_count": 2,
   "metadata": {
    "collapsed": true
   },
   "outputs": [],
   "source": [
    "import sys\n",
    "import os\n",
    "import numpy as np\n",
    "\n",
    "sys.path.append(os.path.abspath(\"../../mathematical_models\"))\n",
    "from mathematical_models.s_on_f import ScalarOnFunctionModel\n",
    "from mathematical_models.f_on_f import FunctionOnFunctionModel\n",
    "from mathematical_models.s_on_s import ScalarOnScalarModel\n",
    "\n",
    "sys.path.append(os.path.abspath(\"../../optimizers\"))\n",
    "from optimizers.nbdo import NBDO\n",
    "\n",
    "sys.path.append(os.path.abspath(\"../../utilities\"))\n",
    "from utilities.plotting.plot_fun import subplot_results"
   ]
  },
  {
   "cell_type": "markdown",
   "source": [
    "### Settings"
   ],
   "metadata": {
    "collapsed": false
   }
  },
  {
   "cell_type": "code",
   "execution_count": 3,
   "outputs": [],
   "source": [
    "N = 24 # runs\n",
    "Kx = [[3]]\n",
    "epochs = 100\n",
    "order = 1\n",
    "s_on_s_model = ScalarOnScalarModel(Kx=Kx[0], order=order)"
   ],
   "metadata": {
    "collapsed": false
   }
  },
  {
   "cell_type": "code",
   "execution_count": 4,
   "outputs": [],
   "source": [
    "optimizer_s_on_s = NBDO(model=s_on_s_model, latent_dim=4)\n",
    "optimizer_s_on_s.compute_train_set(num_designs=1_000, runs=N)"
   ],
   "metadata": {
    "collapsed": false
   }
  },
  {
   "cell_type": "code",
   "execution_count": 5,
   "outputs": [
    {
     "name": "stdout",
     "output_type": "stream",
     "text": [
      "(96,)\n"
     ]
    }
   ],
   "source": [
    "print(optimizer_s_on_s.train_set[0].shape)"
   ],
   "metadata": {
    "collapsed": false
   }
  },
  {
   "cell_type": "code",
   "execution_count": 6,
   "outputs": [
    {
     "name": "stdout",
     "output_type": "stream",
     "text": [
      "Epoch 1/100\n"
     ]
    },
    {
     "name": "stderr",
     "output_type": "stream",
     "text": [
      "2024-09-23 14:49:07.338334: W tensorflow/tsl/platform/profile_utils/cpu_utils.cc:128] Failed to get CPU frequency: 0 Hz\n"
     ]
    },
    {
     "ename": "ValueError",
     "evalue": "in user code:\n\n    File \"/Users/thodorisladas/miniforge3/envs/optidex/lib/python3.10/site-packages/keras/engine/training.py\", line 1249, in train_function  *\n        return step_function(self, iterator)\n    File \"/Users/thodorisladas/Documents/code/system_optidex/optimizers/nbdo.py\", line 148, in custom_loss  *\n        objective_value = self.model.compute_objective_tf(y_pred, m, n)\n    File \"/Users/thodorisladas/Documents/code/system_optidex/mathematical_models/s_on_s.py\", line 55, in compute_objective_tf  *\n        X = tf.reshape(X, (-1, m, n))\n\n    ValueError: Dimension size must be evenly divisible by 72 but is 3072 for '{{node custom_loss/Reshape}} = Reshape[T=DT_FLOAT, Tshape=DT_INT32](autoencoder/decoder/dense_8/Tanh, custom_loss/Reshape/shape)' with input shapes: [32,96], [3] and with input tensors computed as partial shapes: input[1] = [?,24,3].\n",
     "output_type": "error",
     "traceback": [
      "\u001B[0;31m---------------------------------------------------------------------------\u001B[0m",
      "\u001B[0;31mValueError\u001B[0m                                Traceback (most recent call last)",
      "Cell \u001B[0;32mIn[6], line 1\u001B[0m\n\u001B[0;32m----> 1\u001B[0m history \u001B[38;5;241m=\u001B[39m \u001B[43moptimizer_s_on_s\u001B[49m\u001B[38;5;241;43m.\u001B[39;49m\u001B[43mfit\u001B[49m\u001B[43m(\u001B[49m\u001B[43mepochs\u001B[49m\u001B[38;5;241;43m=\u001B[39;49m\u001B[43mepochs\u001B[49m\u001B[43m)\u001B[49m\n",
      "File \u001B[0;32m~/Documents/code/system_optidex/optimizers/nbdo.py:196\u001B[0m, in \u001B[0;36mNBDO.fit\u001B[0;34m(self, epochs, batch_size, patience, optimizer)\u001B[0m\n\u001B[1;32m    194\u001B[0m early_stopping \u001B[38;5;241m=\u001B[39m EarlyStopping(monitor\u001B[38;5;241m=\u001B[39m\u001B[38;5;124m'\u001B[39m\u001B[38;5;124mval_loss\u001B[39m\u001B[38;5;124m'\u001B[39m, patience\u001B[38;5;241m=\u001B[39mpatience, restore_best_weights\u001B[38;5;241m=\u001B[39m\u001B[38;5;28;01mTrue\u001B[39;00m)\n\u001B[1;32m    195\u001B[0m \u001B[38;5;28mself\u001B[39m\u001B[38;5;241m.\u001B[39mautoencoder\u001B[38;5;241m.\u001B[39mbuild(input_shape\u001B[38;5;241m=\u001B[39m(\u001B[38;5;28;01mNone\u001B[39;00m, \u001B[38;5;28mself\u001B[39m\u001B[38;5;241m.\u001B[39minput_dim))\n\u001B[0;32m--> 196\u001B[0m \u001B[38;5;28mself\u001B[39m\u001B[38;5;241m.\u001B[39mhistory \u001B[38;5;241m=\u001B[39m \u001B[38;5;28;43mself\u001B[39;49m\u001B[38;5;241;43m.\u001B[39;49m\u001B[43mautoencoder\u001B[49m\u001B[38;5;241;43m.\u001B[39;49m\u001B[43mfit\u001B[49m\u001B[43m(\u001B[49m\u001B[38;5;28;43mself\u001B[39;49m\u001B[38;5;241;43m.\u001B[39;49m\u001B[43mtrain_set\u001B[49m\u001B[43m,\u001B[49m\u001B[43m \u001B[49m\u001B[38;5;28;43mself\u001B[39;49m\u001B[38;5;241;43m.\u001B[39;49m\u001B[43mtrain_set\u001B[49m\u001B[43m,\u001B[49m\n\u001B[1;32m    197\u001B[0m \u001B[43m                                    \u001B[49m\u001B[43mepochs\u001B[49m\u001B[38;5;241;43m=\u001B[39;49m\u001B[43mepochs\u001B[49m\u001B[43m,\u001B[49m\n\u001B[1;32m    198\u001B[0m \u001B[43m                                    \u001B[49m\u001B[43mbatch_size\u001B[49m\u001B[38;5;241;43m=\u001B[39;49m\u001B[43mbatch_size\u001B[49m\u001B[43m,\u001B[49m\n\u001B[1;32m    199\u001B[0m \u001B[43m                                    \u001B[49m\u001B[43mvalidation_data\u001B[49m\u001B[38;5;241;43m=\u001B[39;49m\u001B[43m(\u001B[49m\u001B[38;5;28;43mself\u001B[39;49m\u001B[38;5;241;43m.\u001B[39;49m\u001B[43mval_set\u001B[49m\u001B[43m,\u001B[49m\u001B[43m \u001B[49m\u001B[38;5;28;43mself\u001B[39;49m\u001B[38;5;241;43m.\u001B[39;49m\u001B[43mval_set\u001B[49m\u001B[43m)\u001B[49m\u001B[43m,\u001B[49m\n\u001B[1;32m    200\u001B[0m \u001B[43m                                    \u001B[49m\u001B[43mcallbacks\u001B[49m\u001B[38;5;241;43m=\u001B[39;49m\u001B[43m[\u001B[49m\u001B[43mearly_stopping\u001B[49m\u001B[43m]\u001B[49m\u001B[43m)\u001B[49m\n\u001B[1;32m    202\u001B[0m \u001B[38;5;28;01mreturn\u001B[39;00m \u001B[38;5;28mself\u001B[39m\u001B[38;5;241m.\u001B[39mhistory\n",
      "File \u001B[0;32m~/miniforge3/envs/optidex/lib/python3.10/site-packages/keras/utils/traceback_utils.py:70\u001B[0m, in \u001B[0;36mfilter_traceback.<locals>.error_handler\u001B[0;34m(*args, **kwargs)\u001B[0m\n\u001B[1;32m     67\u001B[0m     filtered_tb \u001B[38;5;241m=\u001B[39m _process_traceback_frames(e\u001B[38;5;241m.\u001B[39m__traceback__)\n\u001B[1;32m     68\u001B[0m     \u001B[38;5;66;03m# To get the full stack trace, call:\u001B[39;00m\n\u001B[1;32m     69\u001B[0m     \u001B[38;5;66;03m# `tf.debugging.disable_traceback_filtering()`\u001B[39;00m\n\u001B[0;32m---> 70\u001B[0m     \u001B[38;5;28;01mraise\u001B[39;00m e\u001B[38;5;241m.\u001B[39mwith_traceback(filtered_tb) \u001B[38;5;28;01mfrom\u001B[39;00m \u001B[38;5;28mNone\u001B[39m\n\u001B[1;32m     71\u001B[0m \u001B[38;5;28;01mfinally\u001B[39;00m:\n\u001B[1;32m     72\u001B[0m     \u001B[38;5;28;01mdel\u001B[39;00m filtered_tb\n",
      "File \u001B[0;32m/var/folders/bb/tzggm8cx2f5fyxfhdmmhn7j40000gn/T/__autograph_generated_filealbcny1a.py:15\u001B[0m, in \u001B[0;36mouter_factory.<locals>.inner_factory.<locals>.tf__train_function\u001B[0;34m(iterator)\u001B[0m\n\u001B[1;32m     13\u001B[0m \u001B[38;5;28;01mtry\u001B[39;00m:\n\u001B[1;32m     14\u001B[0m     do_return \u001B[38;5;241m=\u001B[39m \u001B[38;5;28;01mTrue\u001B[39;00m\n\u001B[0;32m---> 15\u001B[0m     retval_ \u001B[38;5;241m=\u001B[39m ag__\u001B[38;5;241m.\u001B[39mconverted_call(ag__\u001B[38;5;241m.\u001B[39mld(step_function), (ag__\u001B[38;5;241m.\u001B[39mld(\u001B[38;5;28mself\u001B[39m), ag__\u001B[38;5;241m.\u001B[39mld(iterator)), \u001B[38;5;28;01mNone\u001B[39;00m, fscope)\n\u001B[1;32m     16\u001B[0m \u001B[38;5;28;01mexcept\u001B[39;00m:\n\u001B[1;32m     17\u001B[0m     do_return \u001B[38;5;241m=\u001B[39m \u001B[38;5;28;01mFalse\u001B[39;00m\n",
      "File \u001B[0;32m/var/folders/bb/tzggm8cx2f5fyxfhdmmhn7j40000gn/T/__autograph_generated_filepfo3oz3u.py:14\u001B[0m, in \u001B[0;36mouter_factory.<locals>.inner_factory.<locals>.tf__custom_loss\u001B[0;34m(y_true, y_pred)\u001B[0m\n\u001B[1;32m     12\u001B[0m m \u001B[38;5;241m=\u001B[39m ag__\u001B[38;5;241m.\u001B[39mld(\u001B[38;5;28mself\u001B[39m)\u001B[38;5;241m.\u001B[39mruns\n\u001B[1;32m     13\u001B[0m n \u001B[38;5;241m=\u001B[39m ag__\u001B[38;5;241m.\u001B[39mld(\u001B[38;5;28mself\u001B[39m)\u001B[38;5;241m.\u001B[39mmodel\u001B[38;5;241m.\u001B[39mKx[\u001B[38;5;241m0\u001B[39m]\n\u001B[0;32m---> 14\u001B[0m objective_value \u001B[38;5;241m=\u001B[39m \u001B[43mag__\u001B[49m\u001B[38;5;241;43m.\u001B[39;49m\u001B[43mconverted_call\u001B[49m\u001B[43m(\u001B[49m\u001B[43mag__\u001B[49m\u001B[38;5;241;43m.\u001B[39;49m\u001B[43mld\u001B[49m\u001B[43m(\u001B[49m\u001B[38;5;28;43mself\u001B[39;49m\u001B[43m)\u001B[49m\u001B[38;5;241;43m.\u001B[39;49m\u001B[43mmodel\u001B[49m\u001B[38;5;241;43m.\u001B[39;49m\u001B[43mcompute_objective_tf\u001B[49m\u001B[43m,\u001B[49m\u001B[43m \u001B[49m\u001B[43m(\u001B[49m\u001B[43mag__\u001B[49m\u001B[38;5;241;43m.\u001B[39;49m\u001B[43mld\u001B[49m\u001B[43m(\u001B[49m\u001B[43my_pred\u001B[49m\u001B[43m)\u001B[49m\u001B[43m,\u001B[49m\u001B[43m \u001B[49m\u001B[43mag__\u001B[49m\u001B[38;5;241;43m.\u001B[39;49m\u001B[43mld\u001B[49m\u001B[43m(\u001B[49m\u001B[43mm\u001B[49m\u001B[43m)\u001B[49m\u001B[43m,\u001B[49m\u001B[43m \u001B[49m\u001B[43mag__\u001B[49m\u001B[38;5;241;43m.\u001B[39;49m\u001B[43mld\u001B[49m\u001B[43m(\u001B[49m\u001B[43mn\u001B[49m\u001B[43m)\u001B[49m\u001B[43m)\u001B[49m\u001B[43m,\u001B[49m\u001B[43m \u001B[49m\u001B[38;5;28;43;01mNone\u001B[39;49;00m\u001B[43m,\u001B[49m\u001B[43m \u001B[49m\u001B[43mfscope\u001B[49m\u001B[43m)\u001B[49m\n\u001B[1;32m     15\u001B[0m \u001B[38;5;28;01mtry\u001B[39;00m:\n\u001B[1;32m     16\u001B[0m     do_return \u001B[38;5;241m=\u001B[39m \u001B[38;5;28;01mTrue\u001B[39;00m\n",
      "File \u001B[0;32m/var/folders/bb/tzggm8cx2f5fyxfhdmmhn7j40000gn/T/__autograph_generated_filegldz385w.py:12\u001B[0m, in \u001B[0;36mouter_factory.<locals>.inner_factory.<locals>.tf__compute_objective_tf\u001B[0;34m(self, X, m, n)\u001B[0m\n\u001B[1;32m     10\u001B[0m batch_size \u001B[38;5;241m=\u001B[39m ag__\u001B[38;5;241m.\u001B[39mconverted_call(ag__\u001B[38;5;241m.\u001B[39mld(tf)\u001B[38;5;241m.\u001B[39mshape, (ag__\u001B[38;5;241m.\u001B[39mld(X),), \u001B[38;5;28;01mNone\u001B[39;00m, fscope)[\u001B[38;5;241m0\u001B[39m]\n\u001B[1;32m     11\u001B[0m ones \u001B[38;5;241m=\u001B[39m ag__\u001B[38;5;241m.\u001B[39mconverted_call(ag__\u001B[38;5;241m.\u001B[39mld(tf)\u001B[38;5;241m.\u001B[39mones, ((ag__\u001B[38;5;241m.\u001B[39mld(batch_size), ag__\u001B[38;5;241m.\u001B[39mld(m), \u001B[38;5;241m1\u001B[39m),), \u001B[38;5;28;01mNone\u001B[39;00m, fscope)\n\u001B[0;32m---> 12\u001B[0m X \u001B[38;5;241m=\u001B[39m \u001B[43mag__\u001B[49m\u001B[38;5;241;43m.\u001B[39;49m\u001B[43mconverted_call\u001B[49m\u001B[43m(\u001B[49m\u001B[43mag__\u001B[49m\u001B[38;5;241;43m.\u001B[39;49m\u001B[43mld\u001B[49m\u001B[43m(\u001B[49m\u001B[43mtf\u001B[49m\u001B[43m)\u001B[49m\u001B[38;5;241;43m.\u001B[39;49m\u001B[43mreshape\u001B[49m\u001B[43m,\u001B[49m\u001B[43m \u001B[49m\u001B[43m(\u001B[49m\u001B[43mag__\u001B[49m\u001B[38;5;241;43m.\u001B[39;49m\u001B[43mld\u001B[49m\u001B[43m(\u001B[49m\u001B[43mX\u001B[49m\u001B[43m)\u001B[49m\u001B[43m,\u001B[49m\u001B[43m \u001B[49m\u001B[43m(\u001B[49m\u001B[38;5;241;43m-\u001B[39;49m\u001B[38;5;241;43m1\u001B[39;49m\u001B[43m,\u001B[49m\u001B[43m \u001B[49m\u001B[43mag__\u001B[49m\u001B[38;5;241;43m.\u001B[39;49m\u001B[43mld\u001B[49m\u001B[43m(\u001B[49m\u001B[43mm\u001B[49m\u001B[43m)\u001B[49m\u001B[43m,\u001B[49m\u001B[43m \u001B[49m\u001B[43mag__\u001B[49m\u001B[38;5;241;43m.\u001B[39;49m\u001B[43mld\u001B[49m\u001B[43m(\u001B[49m\u001B[43mn\u001B[49m\u001B[43m)\u001B[49m\u001B[43m)\u001B[49m\u001B[43m)\u001B[49m\u001B[43m,\u001B[49m\u001B[43m \u001B[49m\u001B[38;5;28;43;01mNone\u001B[39;49;00m\u001B[43m,\u001B[49m\u001B[43m \u001B[49m\u001B[43mfscope\u001B[49m\u001B[43m)\u001B[49m\n\u001B[1;32m     13\u001B[0m ag__\u001B[38;5;241m.\u001B[39mld(\u001B[38;5;28mprint\u001B[39m)(ag__\u001B[38;5;241m.\u001B[39mld(X))\n\u001B[1;32m     14\u001B[0m Z \u001B[38;5;241m=\u001B[39m ag__\u001B[38;5;241m.\u001B[39mconverted_call(ag__\u001B[38;5;241m.\u001B[39mld(tf)\u001B[38;5;241m.\u001B[39mconcat, ([ag__\u001B[38;5;241m.\u001B[39mld(ones), ag__\u001B[38;5;241m.\u001B[39mconverted_call(ag__\u001B[38;5;241m.\u001B[39mld(tf)\u001B[38;5;241m.\u001B[39mmatmul, (ag__\u001B[38;5;241m.\u001B[39mld(X), ag__\u001B[38;5;241m.\u001B[39mld(\u001B[38;5;28mself\u001B[39m)\u001B[38;5;241m.\u001B[39mJ_cb), \u001B[38;5;28;01mNone\u001B[39;00m, fscope)],), \u001B[38;5;28mdict\u001B[39m(axis\u001B[38;5;241m=\u001B[39m\u001B[38;5;241m2\u001B[39m), fscope)\n",
      "\u001B[0;31mValueError\u001B[0m: in user code:\n\n    File \"/Users/thodorisladas/miniforge3/envs/optidex/lib/python3.10/site-packages/keras/engine/training.py\", line 1249, in train_function  *\n        return step_function(self, iterator)\n    File \"/Users/thodorisladas/Documents/code/system_optidex/optimizers/nbdo.py\", line 148, in custom_loss  *\n        objective_value = self.model.compute_objective_tf(y_pred, m, n)\n    File \"/Users/thodorisladas/Documents/code/system_optidex/mathematical_models/s_on_s.py\", line 55, in compute_objective_tf  *\n        X = tf.reshape(X, (-1, m, n))\n\n    ValueError: Dimension size must be evenly divisible by 72 but is 3072 for '{{node custom_loss/Reshape}} = Reshape[T=DT_FLOAT, Tshape=DT_INT32](autoencoder/decoder/dense_8/Tanh, custom_loss/Reshape/shape)' with input shapes: [32,96], [3] and with input tensors computed as partial shapes: input[1] = [?,24,3].\n"
     ]
    }
   ],
   "source": [
    "history = optimizer_s_on_s.fit(epochs=epochs)"
   ],
   "metadata": {
    "collapsed": false
   }
  },
  {
   "cell_type": "code",
   "execution_count": 4,
   "outputs": [
    {
     "name": "stdout",
     "output_type": "stream",
     "text": [
      "Iteration No: 1 started. Evaluating function at random point.\n",
      "1/1 [==============================] - 0s 38ms/step\n",
      "Iteration No: 1 ended. Evaluation done at random point.\n",
      "Time taken: 0.0552\n",
      "Function value obtained: 0.2602\n",
      "Current minimum: 0.2602\n",
      "Iteration No: 2 started. Evaluating function at random point.\n",
      "1/1 [==============================] - 0s 13ms/step\n",
      "Iteration No: 2 ended. Evaluation done at random point.\n",
      "Time taken: 0.0293\n",
      "Function value obtained: 0.3039\n",
      "Current minimum: 0.2602\n",
      "Iteration No: 3 started. Evaluating function at random point.\n",
      "1/1 [==============================] - 0s 9ms/step\n",
      "Iteration No: 3 ended. Evaluation done at random point.\n",
      "Time taken: 0.0250\n",
      "Function value obtained: 0.2671\n",
      "Current minimum: 0.2602\n",
      "Iteration No: 4 started. Evaluating function at random point.\n",
      "1/1 [==============================] - 0s 8ms/step\n",
      "Iteration No: 4 ended. Evaluation done at random point.\n",
      "Time taken: 0.0223\n",
      "Function value obtained: 0.2587\n",
      "Current minimum: 0.2587\n",
      "Iteration No: 5 started. Evaluating function at random point.\n",
      "1/1 [==============================] - 0s 8ms/step\n",
      "Iteration No: 5 ended. Evaluation done at random point.\n",
      "Time taken: 0.1204\n",
      "Function value obtained: 0.2684\n",
      "Current minimum: 0.2587\n",
      "Iteration No: 6 started. Searching for the next optimal point.\n",
      "1/1 [==============================] - 0s 9ms/step\n",
      "Iteration No: 6 ended. Search finished for the next optimal point.\n",
      "Time taken: 0.1337\n",
      "Function value obtained: 0.2608\n",
      "Current minimum: 0.2587\n",
      "Iteration No: 7 started. Searching for the next optimal point.\n",
      "1/1 [==============================] - 0s 8ms/step\n",
      "Iteration No: 7 ended. Search finished for the next optimal point.\n",
      "Time taken: 0.1205\n",
      "Function value obtained: 0.2586\n",
      "Current minimum: 0.2586\n",
      "Iteration No: 8 started. Searching for the next optimal point.\n",
      "1/1 [==============================] - 0s 8ms/step\n",
      "Iteration No: 8 ended. Search finished for the next optimal point.\n",
      "Time taken: 0.1095\n",
      "Function value obtained: 0.2699\n",
      "Current minimum: 0.2586\n",
      "Iteration No: 9 started. Searching for the next optimal point.\n",
      "1/1 [==============================] - 0s 9ms/step\n",
      "Iteration No: 9 ended. Search finished for the next optimal point.\n",
      "Time taken: 0.1114\n",
      "Function value obtained: 0.2586\n",
      "Current minimum: 0.2586\n",
      "Iteration No: 10 started. Searching for the next optimal point.\n",
      "1/1 [==============================] - 0s 11ms/step\n",
      "Iteration No: 10 ended. Search finished for the next optimal point.\n",
      "Time taken: 0.1185\n",
      "Function value obtained: 0.2587\n",
      "Current minimum: 0.2586\n",
      "1/1 [==============================] - 0s 9ms/step\n"
     ]
    }
   ],
   "source": [
    "best_cr, best_des = optimizer_s_on_s.optimize()"
   ],
   "metadata": {
    "collapsed": false
   }
  },
  {
   "cell_type": "code",
   "execution_count": 5,
   "outputs": [
    {
     "name": "stdout",
     "output_type": "stream",
     "text": [
      "[[ 0.99998975 -0.99999106  0.99997365 -0.9999347   0.99999326]\n",
      " [-0.9999893   0.99999976  0.99999243 -0.9999043   0.9999906 ]\n",
      " [ 0.99999624  0.99999976 -0.99999774  0.9999989   0.9999988 ]\n",
      " [-0.99999064  0.99999875 -0.99999183  0.9999917   0.99999934]\n",
      " [-0.99999493  0.9999972  -0.9999889   0.99999213 -0.99999505]\n",
      " [ 0.99999803 -0.9999967  -0.9999967  -0.99998945  0.9999989 ]\n",
      " [-0.999997    0.99999934  0.9999959   0.99999535  0.99999815]\n",
      " [ 0.9999981  -0.9999991  -0.9999998   0.99999917  0.9999971 ]\n",
      " [-0.99999964 -0.9999949   0.99999636  0.99999344  0.9999975 ]\n",
      " [-0.9999957  -0.9999994  -0.9999914   0.9999985  -0.99999803]\n",
      " [-0.99999404 -0.9999942   0.9999914   0.9999935   0.9999932 ]\n",
      " [ 0.9999964  -0.9999951  -0.99999475 -0.99999505  0.99998486]\n",
      " [ 0.9999982   0.99999744  0.9999958   0.9999974  -0.99999714]\n",
      " [-0.99998665  0.99999845 -0.99998885  0.99999255 -0.9999971 ]\n",
      " [ 0.9999993   0.99999964  0.9999988  -0.99999654 -0.99999976]\n",
      " [-0.9999966  -0.99999577  0.9999798  -0.9999994   0.99999213]\n",
      " [ 0.9999993  -0.9999939   0.99999183  0.9999918  -0.99999946]\n",
      " [ 0.9999979  -0.9999927   0.9999939   0.999996   -0.99999976]\n",
      " [-0.9999989  -0.9999989  -0.9999953  -0.9999893  -0.9999994 ]\n",
      " [ 0.99999917  0.99999934  0.9999982  -0.999996    0.99999976]\n",
      " [-0.9999728   0.9999944  -0.99996936 -0.99998903 -0.99998105]\n",
      " [-0.9999982   0.99999547 -0.999988   -0.9999943  -0.9999876 ]\n",
      " [ 0.9999977   0.99999803 -0.99999666 -0.99999464 -0.99999726]\n",
      " [-0.99993676 -0.9999991   0.9999943  -0.9999897  -0.99999917]]\n"
     ]
    }
   ],
   "source": [
    "print(best_des)\n",
    "# 0.2551"
   ],
   "metadata": {
    "collapsed": false
   }
  },
  {
   "cell_type": "code",
   "execution_count": 6,
   "outputs": [
    {
     "data": {
      "text/plain": "0.2586192493825103"
     },
     "execution_count": 6,
     "metadata": {},
     "output_type": "execute_result"
    }
   ],
   "source": [
    "best_cr"
   ],
   "metadata": {
    "collapsed": false
   }
  },
  {
   "cell_type": "code",
   "execution_count": 7,
   "outputs": [],
   "source": [
    "import tensorflow as tf\n",
    "random_tensor = tf.random.uniform(shape=(32, 120), minval=-1, maxval=1)"
   ],
   "metadata": {
    "collapsed": false
   }
  },
  {
   "cell_type": "code",
   "execution_count": 8,
   "outputs": [],
   "source": [
    "random_tensor_np = random_tensor.numpy()"
   ],
   "metadata": {
    "collapsed": false
   }
  },
  {
   "cell_type": "code",
   "execution_count": 9,
   "outputs": [
    {
     "name": "stdout",
     "output_type": "stream",
     "text": [
      "[[ 0.47360587  0.42970014  0.9150071  ... -0.08434439 -0.09980631\n",
      "  -0.53753185]\n",
      " [ 0.06475973  0.15494227  0.7360747  ...  0.29003072 -0.8676915\n",
      "  -0.44201994]\n",
      " [-0.15821862  0.606426    0.8916526  ...  0.01027966 -0.2113626\n",
      "   0.34109664]\n",
      " ...\n",
      " [ 0.12963247 -0.29322696 -0.29689527 ... -0.23259735  0.8437507\n",
      "  -0.83500886]\n",
      " [-0.33764434 -0.20710707  0.5258908  ... -0.35601425  0.36251664\n",
      "   0.28831482]\n",
      " [ 0.99417424 -0.27418137 -0.61483335 ...  0.10298729  0.64278936\n",
      "   0.20882654]]\n"
     ]
    }
   ],
   "source": [
    "print(random_tensor_np)"
   ],
   "metadata": {
    "collapsed": false
   }
  },
  {
   "cell_type": "code",
   "execution_count": 9,
   "outputs": [],
   "source": [],
   "metadata": {
    "collapsed": false
   }
  }
 ],
 "metadata": {
  "kernelspec": {
   "display_name": "Python 3",
   "language": "python",
   "name": "python3"
  },
  "language_info": {
   "codemirror_mode": {
    "name": "ipython",
    "version": 2
   },
   "file_extension": ".py",
   "mimetype": "text/x-python",
   "name": "python",
   "nbconvert_exporter": "python",
   "pygments_lexer": "ipython2",
   "version": "2.7.6"
  }
 },
 "nbformat": 4,
 "nbformat_minor": 0
}
