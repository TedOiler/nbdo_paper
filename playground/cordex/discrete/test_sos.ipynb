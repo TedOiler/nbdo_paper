{
 "cells": [
  {
   "cell_type": "code",
   "execution_count": 8,
   "metadata": {
    "collapsed": true
   },
   "outputs": [],
   "source": [
    "import sys\n",
    "import os\n",
    "import numpy as np\n",
    "\n",
    "sys.path.append(os.path.abspath(\"../../mathematical_models\"))\n",
    "from mathematical_models.s_on_s import ScalarOnScalarModel\n",
    "\n",
    "sys.path.append(os.path.abspath(\"../../optimizers\"))\n",
    "from optimizers.cordex_discrete import CordexDiscrete\n",
    "\n",
    "sys.path.append(os.path.abspath(\"../../utilities\"))\n",
    "from utilities.plotting.plot_fun import subplot_results, subplot_b_spline_results"
   ]
  },
  {
   "cell_type": "markdown",
   "source": [
    "### Settings"
   ],
   "metadata": {
    "collapsed": false
   }
  },
  {
   "cell_type": "code",
   "execution_count": 16,
   "outputs": [],
   "source": [
    "N = 10 # runs\n",
    "Kx = [[4]]\n",
    "epochs = 100\n",
    "refinement_epochs = 100\n",
    "lvls = np.linspace(-1., 1., 10)\n",
    "model = ScalarOnScalarModel(Kx=Kx[0])"
   ],
   "metadata": {
    "collapsed": false
   }
  },
  {
   "cell_type": "code",
   "execution_count": 17,
   "outputs": [
    {
     "name": "stderr",
     "output_type": "stream",
     "text": [
      "100%|██████████| 100/100 [00:01<00:00, 63.87it/s]\n",
      "100%|██████████| 100/100 [00:01<00:00, 57.84it/s]\n"
     ]
    }
   ],
   "source": [
    "optimizer = CordexDiscrete(model, runs=N, levels=lvls)\n",
    "best_design, best_objective_value = optimizer.optimize(epochs=epochs, refinement_epochs=refinement_epochs)"
   ],
   "metadata": {
    "collapsed": false
   }
  },
  {
   "cell_type": "code",
   "execution_count": 11,
   "outputs": [
    {
     "name": "stdout",
     "output_type": "stream",
     "text": [
      "Best design:\n",
      " [[ 1.  1. -1.  1.]\n",
      " [ 1. -1.  1. -1.]\n",
      " [ 1. -1. -1. -1.]\n",
      " [ 1.  1.  1. -1.]\n",
      " [-1.  1. -1. -1.]\n",
      " [-1. -1.  1.  1.]\n",
      " [-1.  1.  1. -1.]\n",
      " [-1. -1. -1. -1.]\n",
      " [ 1. -1. -1.  1.]\n",
      " [-1.  1.  1.  1.]]\n"
     ]
    }
   ],
   "source": [
    "print(f'Best design:\\n {best_design}')"
   ],
   "metadata": {
    "collapsed": false
   }
  },
  {
   "cell_type": "code",
   "execution_count": null,
   "outputs": [],
   "source": [],
   "metadata": {
    "collapsed": false
   }
  }
 ],
 "metadata": {
  "kernelspec": {
   "display_name": "Python 3",
   "language": "python",
   "name": "python3"
  },
  "language_info": {
   "codemirror_mode": {
    "name": "ipython",
    "version": 2
   },
   "file_extension": ".py",
   "mimetype": "text/x-python",
   "name": "python",
   "nbconvert_exporter": "python",
   "pygments_lexer": "ipython2",
   "version": "2.7.6"
  }
 },
 "nbformat": 4,
 "nbformat_minor": 0
}
