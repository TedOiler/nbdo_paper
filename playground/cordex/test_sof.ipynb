{
 "cells": [
  {
   "cell_type": "code",
   "execution_count": 2,
   "metadata": {
    "collapsed": true
   },
   "outputs": [],
   "source": [
    "import sys\n",
    "import os\n",
    "import numpy as np\n",
    "\n",
    "sys.path.append(os.path.abspath(\"../../mathematical_models\"))\n",
    "from mathematical_models.s_on_f import ScalarOnFunctionModel\n",
    "\n",
    "sys.path.append(os.path.abspath(\"../../optimizers\"))\n",
    "from optimizers.cordex_continuous import CordexContinuous\n",
    "from optimizers.cordex_discrete import CordexDiscrete\n",
    "\n",
    "sys.path.append(os.path.abspath(\"../../utilities\"))\n",
    "from utilities.plot_fun import subplot_results\n",
    "from utilities.matrix_calc import Jcb, calc_basis_matrix"
   ]
  },
  {
   "cell_type": "markdown",
   "source": [
    "### Settings"
   ],
   "metadata": {
    "collapsed": false
   }
  },
  {
   "cell_type": "code",
   "execution_count": 3,
   "outputs": [],
   "source": [
    "N = 4 # runs\n",
    "Kx = [[16]] # Step\n",
    "Kb = [[2]] # Polynomial\n",
    "epochs = 100\n",
    "lvls = [-1, 1]\n",
    "J_cb = Jcb(*[calc_basis_matrix(x_basis=x, b_basis=b) for x, b in zip(Kx[0], Kb[0])])\n",
    "s_on_f_model = ScalarOnFunctionModel(J_cb=J_cb)"
   ],
   "metadata": {
    "collapsed": false
   }
  },
  {
   "cell_type": "markdown",
   "source": [
    "### Continuous"
   ],
   "metadata": {
    "collapsed": false
   }
  },
  {
   "cell_type": "code",
   "execution_count": 4,
   "outputs": [
    {
     "name": "stderr",
     "output_type": "stream",
     "text": [
      "100%|██████████| 100/100 [00:02<00:00, 35.53it/s]\n",
      "100%|██████████| 100/100 [00:01<00:00, 69.88it/s]\n"
     ]
    }
   ],
   "source": [
    "optimizer_s_on_f = CordexContinuous(model=s_on_f_model)\n",
    "best_design_s_on_f, best_objective_value_s_on_f = optimizer_s_on_f.optimize(runs=N, nx=Kx[0], epochs=epochs, final_pass_iter=100)"
   ],
   "metadata": {
    "collapsed": false
   }
  },
  {
   "cell_type": "code",
   "execution_count": 5,
   "outputs": [
    {
     "name": "stdout",
     "output_type": "stream",
     "text": [
      "Best objective value (A): 8.44\n"
     ]
    },
    {
     "data": {
      "text/plain": "<Figure size 288x288 with 4 Axes>",
      "image/png": "[encoded data removed]"
     },
     "metadata": {},
     "output_type": "display_data"
    }
   ],
   "source": [
    "subplot_results(sub_x=2, sub_y=2, T=np.linspace(0, 1, 500), results=best_design_s_on_f, style='fivethirtyeight', save=False)\n",
    "print(f'Best objective value (A): {np.round(best_objective_value_s_on_f,2)}')"
   ],
   "metadata": {
    "collapsed": false
   }
  },
  {
   "cell_type": "markdown",
   "source": [
    "### Discrete"
   ],
   "metadata": {
    "collapsed": false
   }
  },
  {
   "cell_type": "code",
   "execution_count": 4,
   "outputs": [
    {
     "name": "stderr",
     "output_type": "stream",
     "text": [
      "100%|██████████| 100/100 [00:00<00:00, 264.15it/s]\n",
      "100%|██████████| 100/100 [00:00<00:00, 281.29it/s]\n"
     ]
    }
   ],
   "source": [
    "optimizer_s_on_f = CordexDiscrete(model=s_on_f_model)\n",
    "best_design_s_on_f, best_objective_value_s_on_f = optimizer_s_on_f.optimize(runs=N, nx=Kx[0], epochs=epochs, final_pass_iter=100, levels=lvls)"
   ],
   "metadata": {
    "collapsed": false
   }
  },
  {
   "cell_type": "code",
   "execution_count": 5,
   "outputs": [
    {
     "name": "stdout",
     "output_type": "stream",
     "text": [
      "Best objective value (A): 8.43\n"
     ]
    },
    {
     "data": {
      "text/plain": "<Figure size 288x288 with 4 Axes>",
      "image/png": "[encoded data removed]"
     },
     "metadata": {},
     "output_type": "display_data"
    }
   ],
   "source": [
    "subplot_results(sub_x=2, sub_y=2, T=np.linspace(0, 1, 500), results=best_design_s_on_f, style='fivethirtyeight', save=False)\n",
    "print(f'Best objective value (A): {np.round(best_objective_value_s_on_f,2)}')"
   ],
   "metadata": {
    "collapsed": false
   }
  },
  {
   "cell_type": "markdown",
   "source": [
    "### NBDO"
   ],
   "metadata": {
    "collapsed": false
   }
  },
  {
   "cell_type": "code",
   "execution_count": null,
   "outputs": [],
   "source": [],
   "metadata": {
    "collapsed": false
   }
  }
 ],
 "metadata": {
  "kernelspec": {
   "display_name": "Python 3",
   "language": "python",
   "name": "python3"
  },
  "language_info": {
   "codemirror_mode": {
    "name": "ipython",
    "version": 2
   },
   "file_extension": ".py",
   "mimetype": "text/x-python",
   "name": "python",
   "nbconvert_exporter": "python",
   "pygments_lexer": "ipython2",
   "version": "2.7.6"
  }
 },
 "nbformat": 4,
 "nbformat_minor": 0
}
