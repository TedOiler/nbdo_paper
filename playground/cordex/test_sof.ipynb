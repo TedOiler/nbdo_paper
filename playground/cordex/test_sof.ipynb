{
 "cells": [
  {
   "cell_type": "code",
   "execution_count": 2,
   "metadata": {
    "collapsed": true
   },
   "outputs": [],
   "source": [
    "import sys\n",
    "import os\n",
    "import numpy as np\n",
    "\n",
    "sys.path.append(os.path.abspath(\"../../mathematical_models\"))\n",
    "from mathematical_models.s_on_f import ScalarOnFunctionModel\n",
    "\n",
    "sys.path.append(os.path.abspath(\"../../optimizers\"))\n",
    "from optimizers.cordex_continuous import CordexContinuous\n",
    "from optimizers.cordex_discrete import CordexDiscrete\n",
    "\n",
    "sys.path.append(os.path.abspath(\"../../utilities\"))\n",
    "from utilities.plotting.plot_fun import subplot_results, subplot_b_spline_results"
   ]
  },
  {
   "cell_type": "markdown",
   "source": [
    "### Settings"
   ],
   "metadata": {
    "collapsed": false
   }
  },
  {
   "cell_type": "code",
   "execution_count": 3,
   "outputs": [],
   "source": [
    "N = 4 # runs\n",
    "Kx_family = 'step'\n",
    "Kx = [[4]] # Step\n",
    "Kb = [[2]] # Polynomial\n",
    "epochs = 100\n",
    "refinement_epochs = 100\n",
    "lvls = [-1, 1]\n",
    "s_on_f_model = ScalarOnFunctionModel(Kx=Kx[0], Kb= Kb[0], Kx_family=Kx_family)"
   ],
   "metadata": {
    "collapsed": false
   }
  },
  {
   "cell_type": "markdown",
   "source": [
    "### Continuous"
   ],
   "metadata": {
    "collapsed": false
   }
  },
  {
   "cell_type": "code",
   "execution_count": 4,
   "outputs": [
    {
     "name": "stderr",
     "output_type": "stream",
     "text": [
      "100%|██████████| 100/100 [00:00<00:00, 114.45it/s]\n",
      "100%|██████████| 100/100 [00:00<00:00, 157.17it/s]\n"
     ]
    }
   ],
   "source": [
    "optimizer_s_on_f = CordexContinuous(model=s_on_f_model, runs=N)\n",
    "best_design_s_on_f, best_objective_value_s_on_f = optimizer_s_on_f.optimize(epochs=epochs)"
   ],
   "metadata": {
    "collapsed": false
   }
  },
  {
   "cell_type": "code",
   "execution_count": 5,
   "outputs": [
    {
     "name": "stdout",
     "output_type": "stream",
     "text": [
      "Best objective value (A): 8.75\n"
     ]
    },
    {
     "data": {
      "text/plain": "<Figure size 288x288 with 4 Axes>",
      "image/png": "[encoded data removed]"
     },
     "metadata": {},
     "output_type": "display_data"
    }
   ],
   "source": [
    "subplot_results(sub_x=2, sub_y=2, T=np.linspace(0, 1, 500), results=best_design_s_on_f, style='fivethirtyeight', save=False)\n",
    "print(f'Best objective value (A): {np.round(best_objective_value_s_on_f,2)}')"
   ],
   "metadata": {
    "collapsed": false
   }
  },
  {
   "cell_type": "markdown",
   "source": [
    "### Discrete"
   ],
   "metadata": {
    "collapsed": false
   }
  },
  {
   "cell_type": "code",
   "execution_count": 6,
   "outputs": [
    {
     "name": "stderr",
     "output_type": "stream",
     "text": [
      "100%|██████████| 100/100 [00:00<00:00, 514.50it/s]\n",
      "100%|██████████| 100/100 [00:00<00:00, 415.42it/s]\n"
     ]
    }
   ],
   "source": [
    "optimizer_s_on_f = CordexDiscrete(model=s_on_f_model, runs=N, levels=lvls)\n",
    "best_design_s_on_f, best_objective_value_s_on_f = optimizer_s_on_f.optimize(epochs=epochs)"
   ],
   "metadata": {
    "collapsed": false
   }
  },
  {
   "cell_type": "code",
   "execution_count": 7,
   "outputs": [
    {
     "name": "stdout",
     "output_type": "stream",
     "text": [
      "Best objective value (A): 8.75\n"
     ]
    },
    {
     "data": {
      "text/plain": "<Figure size 288x288 with 4 Axes>",
      "image/png": "[encoded data removed]"
     },
     "metadata": {},
     "output_type": "display_data"
    }
   ],
   "source": [
    "subplot_results(sub_x=2, sub_y=2, T=np.linspace(0, 1, 500), results=best_design_s_on_f, style='fivethirtyeight', save=False)\n",
    "print(f'Best objective value (A): {np.round(best_objective_value_s_on_f,2)}')"
   ],
   "metadata": {
    "collapsed": false
   }
  },
  {
   "cell_type": "markdown",
   "source": [
    "### NBDO"
   ],
   "metadata": {
    "collapsed": false
   }
  },
  {
   "cell_type": "markdown",
   "source": [
    "### Test Js"
   ],
   "metadata": {
    "collapsed": false
   }
  },
  {
   "cell_type": "code",
   "execution_count": 8,
   "outputs": [
    {
     "data": {
      "text/plain": "array([[0.25   , 0.03125],\n       [0.25   , 0.09375],\n       [0.25   , 0.15625],\n       [0.25   , 0.21875]])"
     },
     "execution_count": 8,
     "metadata": {},
     "output_type": "execute_result"
    }
   ],
   "source": [
    "# Step - Poly\n",
    "s_on_f_model = ScalarOnFunctionModel(Kx=Kx[0], Kb= Kb[0], Kx_family=Kx_family)\n",
    "s_on_f_model.get_Jcb()"
   ],
   "metadata": {
    "collapsed": false
   }
  },
  {
   "cell_type": "code",
   "execution_count": 13,
   "outputs": [
    {
     "data": {
      "text/plain": "array([[0.25, 0.05],\n       [0.25, 0.1 ],\n       [0.25, 0.15],\n       [0.25, 0.2 ]])"
     },
     "execution_count": 13,
     "metadata": {},
     "output_type": "execute_result"
    }
   ],
   "source": [
    "# B-spline - Poly\n",
    "k_degree = 3\n",
    "Kx_family = 'b-spline'\n",
    "s_on_f_model = ScalarOnFunctionModel(Kx=Kx[0], Kb= Kb[0], Kx_family=Kx_family, k_degree=k_degree)\n",
    "s_on_f_model.get_Jcb()"
   ],
   "metadata": {
    "collapsed": false
   }
  },
  {
   "cell_type": "markdown",
   "source": [
    "### Test plotting b-spline basis"
   ],
   "metadata": {
    "collapsed": false
   }
  },
  {
   "cell_type": "code",
   "execution_count": 14,
   "outputs": [],
   "source": [
    "s_on_f_model = ScalarOnFunctionModel(Kx=Kx[0], Kb= Kb[0], Kx_family=Kx_family, k_degree=k_degree)\n",
    "optimizer_s_on_f = CordexContinuous(model=s_on_f_model, runs=N)"
   ],
   "metadata": {
    "collapsed": false
   }
  },
  {
   "cell_type": "code",
   "execution_count": 15,
   "outputs": [
    {
     "name": "stderr",
     "output_type": "stream",
     "text": [
      "100%|██████████| 100/100 [00:00<00:00, 141.67it/s]\n",
      "100%|██████████| 100/100 [00:00<00:00, 264.07it/s]\n"
     ]
    }
   ],
   "source": [
    "best_design_s_on_f, best_objective_value_s_on_f = optimizer_s_on_f.optimize(epochs=epochs)"
   ],
   "metadata": {
    "collapsed": false
   }
  },
  {
   "cell_type": "code",
   "execution_count": 16,
   "outputs": [
    {
     "data": {
      "text/plain": "<Figure size 288x288 with 4 Axes>",
      "image/png": "[encoded data removed]"
     },
     "metadata": {},
     "output_type": "display_data"
    },
    {
     "name": "stdout",
     "output_type": "stream",
     "text": [
      "Best objective value (A): 12.41\n"
     ]
    },
    {
     "data": {
      "text/plain": "<Figure size 432x288 with 0 Axes>"
     },
     "metadata": {},
     "output_type": "display_data"
    }
   ],
   "source": [
    "subplot_b_spline_results(2, 2, np.linspace(0,1,1000), best_design_s_on_f, k_degree)\n",
    "print(f'Best objective value (A): {np.round(best_objective_value_s_on_f,2)}')"
   ],
   "metadata": {
    "collapsed": false
   }
  }
 ],
 "metadata": {
  "kernelspec": {
   "display_name": "Python 3",
   "language": "python",
   "name": "python3"
  },
  "language_info": {
   "codemirror_mode": {
    "name": "ipython",
    "version": 2
   },
   "file_extension": ".py",
   "mimetype": "text/x-python",
   "name": "python",
   "nbconvert_exporter": "python",
   "pygments_lexer": "ipython2",
   "version": "2.7.6"
  }
 },
 "nbformat": 4,
 "nbformat_minor": 0
}
