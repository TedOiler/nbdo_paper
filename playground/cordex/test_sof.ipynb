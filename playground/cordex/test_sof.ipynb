{
 "cells": [
  {
   "cell_type": "code",
   "execution_count": 9,
   "metadata": {
    "collapsed": true
   },
   "outputs": [],
   "source": [
    "import sys\n",
    "import os\n",
    "import numpy as np\n",
    "\n",
    "sys.path.append(os.path.abspath(\"../../mathematical_models\"))\n",
    "from mathematical_models.s_on_f import ScalarOnFunctionModel\n",
    "\n",
    "sys.path.append(os.path.abspath(\"../../optimizers\"))\n",
    "from optimizers.cordex_continuous import CordexContinuous\n",
    "from optimizers.cordex_discrete import CordexDiscrete\n",
    "\n",
    "sys.path.append(os.path.abspath(\"../../utilities\"))\n",
    "from utilities.plot_fun import subplot_results"
   ]
  },
  {
   "cell_type": "markdown",
   "source": [
    "### Settings"
   ],
   "metadata": {
    "collapsed": false
   }
  },
  {
   "cell_type": "code",
   "execution_count": 10,
   "outputs": [],
   "source": [
    "N = 4 # runs\n",
    "Kx = [[16]] # Step\n",
    "Kb = [[2]] # Polynomial\n",
    "epochs = 100\n",
    "refinement_epochs = 100\n",
    "lvls = [-1, 1]\n",
    "s_on_f_model = ScalarOnFunctionModel(Kx=Kx[0], Kb= Kb[0])"
   ],
   "metadata": {
    "collapsed": false
   }
  },
  {
   "cell_type": "markdown",
   "source": [
    "### Continuous"
   ],
   "metadata": {
    "collapsed": false
   }
  },
  {
   "cell_type": "code",
   "execution_count": 11,
   "outputs": [
    {
     "name": "stderr",
     "output_type": "stream",
     "text": [
      "100%|██████████| 100/100 [00:02<00:00, 35.02it/s]\n",
      "100%|██████████| 100/100 [00:01<00:00, 66.86it/s]\n"
     ]
    }
   ],
   "source": [
    "optimizer_s_on_f = CordexContinuous(model=s_on_f_model, runs=N)\n",
    "best_design_s_on_f, best_objective_value_s_on_f = optimizer_s_on_f.optimize(epochs=epochs)"
   ],
   "metadata": {
    "collapsed": false
   }
  },
  {
   "cell_type": "code",
   "execution_count": 12,
   "outputs": [
    {
     "name": "stdout",
     "output_type": "stream",
     "text": [
      "Best objective value (A): 8.43\n"
     ]
    },
    {
     "data": {
      "text/plain": "<Figure size 288x288 with 4 Axes>",
      "image/png": "[encoded data removed]"
     },
     "metadata": {},
     "output_type": "display_data"
    }
   ],
   "source": [
    "subplot_results(sub_x=2, sub_y=2, T=np.linspace(0, 1, 500), results=best_design_s_on_f, style='fivethirtyeight', save=False)\n",
    "print(f'Best objective value (A): {np.round(best_objective_value_s_on_f,2)}')"
   ],
   "metadata": {
    "collapsed": false
   }
  },
  {
   "cell_type": "markdown",
   "source": [
    "### Discrete"
   ],
   "metadata": {
    "collapsed": false
   }
  },
  {
   "cell_type": "code",
   "execution_count": 13,
   "outputs": [
    {
     "name": "stderr",
     "output_type": "stream",
     "text": [
      "100%|██████████| 100/100 [00:00<00:00, 274.54it/s]\n",
      "100%|██████████| 100/100 [00:00<00:00, 272.26it/s]\n"
     ]
    }
   ],
   "source": [
    "optimizer_s_on_f = CordexDiscrete(model=s_on_f_model, runs=N, levels=lvls)\n",
    "best_design_s_on_f, best_objective_value_s_on_f = optimizer_s_on_f.optimize(epochs=epochs)"
   ],
   "metadata": {
    "collapsed": false
   }
  },
  {
   "cell_type": "code",
   "execution_count": 14,
   "outputs": [
    {
     "name": "stdout",
     "output_type": "stream",
     "text": [
      "Best objective value (A): 8.45\n"
     ]
    },
    {
     "data": {
      "text/plain": "<Figure size 288x288 with 4 Axes>",
      "image/png": "[encoded data removed]"
     },
     "metadata": {},
     "output_type": "display_data"
    }
   ],
   "source": [
    "subplot_results(sub_x=2, sub_y=2, T=np.linspace(0, 1, 500), results=best_design_s_on_f, style='fivethirtyeight', save=False)\n",
    "print(f'Best objective value (A): {np.round(best_objective_value_s_on_f,2)}')"
   ],
   "metadata": {
    "collapsed": false
   }
  },
  {
   "cell_type": "markdown",
   "source": [
    "### NBDO"
   ],
   "metadata": {
    "collapsed": false
   }
  },
  {
   "cell_type": "code",
   "execution_count": null,
   "outputs": [],
   "source": [],
   "metadata": {
    "collapsed": false
   }
  }
 ],
 "metadata": {
  "kernelspec": {
   "display_name": "Python 3",
   "language": "python",
   "name": "python3"
  },
  "language_info": {
   "codemirror_mode": {
    "name": "ipython",
    "version": 2
   },
   "file_extension": ".py",
   "mimetype": "text/x-python",
   "name": "python",
   "nbconvert_exporter": "python",
   "pygments_lexer": "ipython2",
   "version": "2.7.6"
  }
 },
 "nbformat": 4,
 "nbformat_minor": 0
}
