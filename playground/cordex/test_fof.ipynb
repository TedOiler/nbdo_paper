{
 "cells": [
  {
   "cell_type": "code",
   "execution_count": 2,
   "outputs": [],
   "source": [
    "import sys\n",
    "import os\n",
    "import numpy as np\n",
    "\n",
    "sys.path.append(os.path.abspath(\"../../mathematical_models\"))\n",
    "from mathematical_models.f_on_f import FunctionOnFunctionModel\n",
    "\n",
    "sys.path.append(os.path.abspath(\"../../optimizers\"))\n",
    "from optimizers.cordex_continuous import CordexContinuous\n",
    "from optimizers.cordex_discrete import CordexDiscrete\n",
    "\n",
    "sys.path.append(os.path.abspath(\"../../utilities\"))\n",
    "from utilities.plotting.plot_fun import subplot_results, subplot_b_spline_results"
   ],
   "metadata": {
    "collapsed": false
   }
  },
  {
   "cell_type": "markdown",
   "source": [
    "### Settings"
   ],
   "metadata": {
    "collapsed": false
   }
  },
  {
   "cell_type": "code",
   "execution_count": 3,
   "outputs": [],
   "source": [
    "N = 4 # runs\n",
    "Kx_family = 'step'\n",
    "Kx = [[4]]\n",
    "Kb = [[2]] # Polynomial\n",
    "Ky = 2\n",
    "epochs = 100\n",
    "refinement_epochs = 100\n",
    "lvls = [-1, 1]\n",
    "Sigma_decay = 0\n",
    "f_on_f_model = FunctionOnFunctionModel(Kx=Kx[0], Kb= Kb[0], Kx_family=Kx_family, Ky=Ky, Sigma_decay=Sigma_decay)"
   ],
   "metadata": {
    "collapsed": false
   }
  },
  {
   "cell_type": "markdown",
   "source": [
    "### J matrix"
   ],
   "metadata": {
    "collapsed": false
   }
  },
  {
   "cell_type": "code",
   "execution_count": 4,
   "outputs": [
    {
     "data": {
      "text/plain": "array([[1.     , 0.     , 0.     ],\n       [0.     , 0.25   , 0.03125],\n       [0.     , 0.25   , 0.09375],\n       [0.     , 0.25   , 0.15625],\n       [0.     , 0.25   , 0.21875]])"
     },
     "execution_count": 4,
     "metadata": {},
     "output_type": "execute_result"
    }
   ],
   "source": [
    "f_on_f_model.get_Jcb()"
   ],
   "metadata": {
    "collapsed": false
   }
  },
  {
   "cell_type": "markdown",
   "source": [
    "### Sigma matrix"
   ],
   "metadata": {
    "collapsed": false
   }
  },
  {
   "cell_type": "code",
   "execution_count": 5,
   "outputs": [
    {
     "data": {
      "text/plain": "array([[1., 0.],\n       [0., 1.]])"
     },
     "execution_count": 5,
     "metadata": {},
     "output_type": "execute_result"
    }
   ],
   "source": [
    "f_on_f_model.get_Sigma()"
   ],
   "metadata": {
    "collapsed": false
   }
  },
  {
   "cell_type": "markdown",
   "source": [
    "### Optimize design"
   ],
   "metadata": {
    "collapsed": false
   }
  },
  {
   "cell_type": "code",
   "execution_count": 6,
   "outputs": [
    {
     "name": "stderr",
     "output_type": "stream",
     "text": [
      "100%|██████████| 100/100 [00:00<00:00, 760.91it/s]\n",
      "100%|██████████| 100/100 [00:00<00:00, 823.46it/s]\n"
     ]
    }
   ],
   "source": [
    "optimizer_f_on_f = CordexDiscrete(model=f_on_f_model, runs=N, levels=lvls)\n",
    "best_design_f_on_f, best_objective_value_f_on_f = optimizer_f_on_f.optimize(epochs=epochs)"
   ],
   "metadata": {
    "collapsed": false
   }
  },
  {
   "cell_type": "code",
   "execution_count": 7,
   "outputs": [
    {
     "name": "stdout",
     "output_type": "stream",
     "text": [
      "Best objective value (A): 17.5\n"
     ]
    },
    {
     "data": {
      "text/plain": "<Figure size 288x288 with 4 Axes>",
      "image/png": "[encoded data removed]"
     },
     "metadata": {},
     "output_type": "display_data"
    }
   ],
   "source": [
    "subplot_results(sub_x=2, sub_y=2, T=np.linspace(0, 1, 500), results=best_design_f_on_f, style='fivethirtyeight', save=False)\n",
    "print(f'Best objective value (A): {np.round(best_objective_value_f_on_f,2)}')"
   ],
   "metadata": {
    "collapsed": false
   }
  },
  {
   "cell_type": "markdown",
   "source": [
    "## B-spline for X"
   ],
   "metadata": {
    "collapsed": false
   }
  },
  {
   "cell_type": "markdown",
   "source": [
    "### Extra Settings needed for B-spline"
   ],
   "metadata": {
    "collapsed": false
   }
  },
  {
   "cell_type": "code",
   "execution_count": 26,
   "outputs": [],
   "source": [
    "k_degree = 3\n",
    "Kx_family = 'b-spline'"
   ],
   "metadata": {
    "collapsed": false
   }
  },
  {
   "cell_type": "code",
   "execution_count": 27,
   "outputs": [
    {
     "data": {
      "text/plain": "array([[1.  , 0.  , 0.  ],\n       [0.  , 0.25, 0.05],\n       [0.  , 0.25, 0.1 ],\n       [0.  , 0.25, 0.15],\n       [0.  , 0.25, 0.2 ]])"
     },
     "execution_count": 27,
     "metadata": {},
     "output_type": "execute_result"
    }
   ],
   "source": [
    "f_on_f_model = FunctionOnFunctionModel(Kx=Kx[0], Kb= Kb[0], Kx_family=Kx_family, Ky=Ky, Sigma_decay=Sigma_decay, k_degree=k_degree)\n",
    "f_on_f_model.get_Jcb()"
   ],
   "metadata": {
    "collapsed": false
   }
  },
  {
   "cell_type": "code",
   "execution_count": 28,
   "outputs": [
    {
     "name": "stderr",
     "output_type": "stream",
     "text": [
      "100%|██████████| 100/100 [00:00<00:00, 717.21it/s]\n",
      "100%|██████████| 100/100 [00:00<00:00, 726.60it/s]\n"
     ]
    }
   ],
   "source": [
    "optimizer_f_on_f = CordexDiscrete(model=f_on_f_model, runs=N, levels=lvls)\n",
    "best_design_f_on_f, best_objective_value_f_on_f = optimizer_f_on_f.optimize(epochs=epochs)"
   ],
   "metadata": {
    "collapsed": false
   }
  },
  {
   "cell_type": "code",
   "execution_count": 29,
   "outputs": [
    {
     "data": {
      "text/plain": "<Figure size 288x288 with 4 Axes>",
      "image/png": "[encoded data removed]"
     },
     "metadata": {},
     "output_type": "display_data"
    },
    {
     "name": "stdout",
     "output_type": "stream",
     "text": [
      "Best objective value (A): 24.82\n"
     ]
    }
   ],
   "source": [
    "subplot_b_spline_results(2, 2, np.linspace(0,1,1000), best_design_f_on_f, k_degree)\n",
    "print(f'Best objective value (A): {np.round(best_objective_value_f_on_f,2)}')"
   ],
   "metadata": {
    "collapsed": false
   }
  },
  {
   "cell_type": "markdown",
   "source": [
    "### Continuous"
   ],
   "metadata": {
    "collapsed": false
   }
  },
  {
   "cell_type": "code",
   "execution_count": 30,
   "outputs": [
    {
     "name": "stderr",
     "output_type": "stream",
     "text": [
      "100%|██████████| 100/100 [00:00<00:00, 132.39it/s]\n",
      "100%|██████████| 100/100 [00:00<00:00, 272.74it/s]\n"
     ]
    }
   ],
   "source": [
    "optimizer_f_on_f = CordexContinuous(model=f_on_f_model, runs=N)\n",
    "best_design_f_on_f, best_objective_value_f_on_f = optimizer_f_on_f.optimize(epochs=epochs)"
   ],
   "metadata": {
    "collapsed": false
   }
  },
  {
   "cell_type": "code",
   "execution_count": 31,
   "outputs": [
    {
     "data": {
      "text/plain": "<Figure size 288x288 with 4 Axes>",
      "image/png": "[encoded data removed]"
     },
     "metadata": {},
     "output_type": "display_data"
    },
    {
     "name": "stdout",
     "output_type": "stream",
     "text": [
      "Best objective value (A): 24.82\n"
     ]
    }
   ],
   "source": [
    "subplot_b_spline_results(2, 2, np.linspace(0,1,1000), best_design_f_on_f, k_degree)\n",
    "print(f'Best objective value (A): {np.round(best_objective_value_f_on_f,2)}')"
   ],
   "metadata": {
    "collapsed": false
   }
  },
  {
   "cell_type": "code",
   "execution_count": null,
   "outputs": [],
   "source": [],
   "metadata": {
    "collapsed": false
   }
  }
 ],
 "metadata": {
  "kernelspec": {
   "display_name": "Python 3",
   "language": "python",
   "name": "python3"
  },
  "language_info": {
   "codemirror_mode": {
    "name": "ipython",
    "version": 2
   },
   "file_extension": ".py",
   "mimetype": "text/x-python",
   "name": "python",
   "nbconvert_exporter": "python",
   "pygments_lexer": "ipython2",
   "version": "2.7.6"
  }
 },
 "nbformat": 4,
 "nbformat_minor": 0
}
