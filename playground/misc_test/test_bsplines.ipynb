{
 "cells": [
  {
   "cell_type": "code",
   "execution_count": 29,
   "metadata": {
    "collapsed": true
   },
   "outputs": [
    {
     "ename": "FileNotFoundError",
     "evalue": "[Errno 2] No such file or directory",
     "output_type": "error",
     "traceback": [
      "\u001B[0;31m---------------------------------------------------------------------------\u001B[0m",
      "\u001B[0;31mFileNotFoundError\u001B[0m                         Traceback (most recent call last)",
      "\u001B[0;32m/var/folders/bb/tzggm8cx2f5fyxfhdmmhn7j40000gn/T/ipykernel_32856/3173593581.py\u001B[0m in \u001B[0;36m<module>\u001B[0;34m\u001B[0m\n\u001B[1;32m      5\u001B[0m \u001B[0;32mfrom\u001B[0m \u001B[0mmatplotlib\u001B[0m \u001B[0;32mimport\u001B[0m \u001B[0mpyplot\u001B[0m \u001B[0;32mas\u001B[0m \u001B[0mplt\u001B[0m\u001B[0;34m\u001B[0m\u001B[0;34m\u001B[0m\u001B[0m\n\u001B[1;32m      6\u001B[0m \u001B[0;34m\u001B[0m\u001B[0m\n\u001B[0;32m----> 7\u001B[0;31m \u001B[0msys\u001B[0m\u001B[0;34m.\u001B[0m\u001B[0mpath\u001B[0m\u001B[0;34m.\u001B[0m\u001B[0mappend\u001B[0m\u001B[0;34m(\u001B[0m\u001B[0mos\u001B[0m\u001B[0;34m.\u001B[0m\u001B[0mpath\u001B[0m\u001B[0;34m.\u001B[0m\u001B[0mabspath\u001B[0m\u001B[0;34m(\u001B[0m\u001B[0;34m\"../../utilities\"\u001B[0m\u001B[0;34m)\u001B[0m\u001B[0;34m)\u001B[0m\u001B[0;34m\u001B[0m\u001B[0;34m\u001B[0m\u001B[0m\n\u001B[0m\u001B[1;32m      8\u001B[0m \u001B[0;32mfrom\u001B[0m \u001B[0mutilities\u001B[0m\u001B[0;34m.\u001B[0m\u001B[0mbasis\u001B[0m \u001B[0;32mimport\u001B[0m \u001B[0mb_spline_basis\u001B[0m\u001B[0;34m\u001B[0m\u001B[0;34m\u001B[0m\u001B[0m\n\u001B[1;32m      9\u001B[0m \u001B[0;32mfrom\u001B[0m \u001B[0mutilities\u001B[0m\u001B[0;34m.\u001B[0m\u001B[0mJ_bsplines_poly\u001B[0m \u001B[0;32mimport\u001B[0m \u001B[0mJcb\u001B[0m\u001B[0;34m,\u001B[0m \u001B[0mcalc_basis_matrix\u001B[0m\u001B[0;34m\u001B[0m\u001B[0;34m\u001B[0m\u001B[0m\n",
      "\u001B[0;32m~/opt/anaconda3/lib/python3.9/posixpath.py\u001B[0m in \u001B[0;36mabspath\u001B[0;34m(path)\u001B[0m\n\u001B[1;32m    378\u001B[0m             \u001B[0mcwd\u001B[0m \u001B[0;34m=\u001B[0m \u001B[0mos\u001B[0m\u001B[0;34m.\u001B[0m\u001B[0mgetcwdb\u001B[0m\u001B[0;34m(\u001B[0m\u001B[0;34m)\u001B[0m\u001B[0;34m\u001B[0m\u001B[0;34m\u001B[0m\u001B[0m\n\u001B[1;32m    379\u001B[0m         \u001B[0;32melse\u001B[0m\u001B[0;34m:\u001B[0m\u001B[0;34m\u001B[0m\u001B[0;34m\u001B[0m\u001B[0m\n\u001B[0;32m--> 380\u001B[0;31m             \u001B[0mcwd\u001B[0m \u001B[0;34m=\u001B[0m \u001B[0mos\u001B[0m\u001B[0;34m.\u001B[0m\u001B[0mgetcwd\u001B[0m\u001B[0;34m(\u001B[0m\u001B[0;34m)\u001B[0m\u001B[0;34m\u001B[0m\u001B[0;34m\u001B[0m\u001B[0m\n\u001B[0m\u001B[1;32m    381\u001B[0m         \u001B[0mpath\u001B[0m \u001B[0;34m=\u001B[0m \u001B[0mjoin\u001B[0m\u001B[0;34m(\u001B[0m\u001B[0mcwd\u001B[0m\u001B[0;34m,\u001B[0m \u001B[0mpath\u001B[0m\u001B[0;34m)\u001B[0m\u001B[0;34m\u001B[0m\u001B[0;34m\u001B[0m\u001B[0m\n\u001B[1;32m    382\u001B[0m     \u001B[0;32mreturn\u001B[0m \u001B[0mnormpath\u001B[0m\u001B[0;34m(\u001B[0m\u001B[0mpath\u001B[0m\u001B[0;34m)\u001B[0m\u001B[0;34m\u001B[0m\u001B[0;34m\u001B[0m\u001B[0m\n",
      "\u001B[0;31mFileNotFoundError\u001B[0m: [Errno 2] No such file or directory"
     ]
    }
   ],
   "source": [
    "import sys\n",
    "import os\n",
    "\n",
    "import numpy as np\n",
    "from matplotlib import pyplot as plt\n",
    "\n",
    "sys.path.append(os.path.abspath(\"../../utilities\"))\n",
    "from utilities.basis import b_spline_basis\n",
    "from utilities.J_bsplines_poly import Jcb, calc_basis_matrix\n",
    "\n",
    "def plot_b_spline_basis(k, knots):\n",
    "    t_vals = np.linspace(0, 1, 10_000)\n",
    "    plt.figure(figsize=(10, 6))\n",
    "\n",
    "    for i in range(knots_num - 1):\n",
    "        b_spline_vals = [b_spline_basis(t, k, i, knots) for t in t_vals]\n",
    "        plt.plot(t_vals, b_spline_vals)\n",
    "\n",
    "    plt.title('B-spline Basis Functions')\n",
    "    plt.xlabel('$t$')\n",
    "    plt.ylabel('Basis function value')\n",
    "    plt.grid(True)\n",
    "    plt.show()"
   ]
  },
  {
   "cell_type": "markdown",
   "source": [
    "### Settings"
   ],
   "metadata": {
    "collapsed": false
   }
  },
  {
   "cell_type": "code",
   "execution_count": 24,
   "outputs": [],
   "source": [
    "Kx = [[3]]  # B-splines\n",
    "Kb = [[2]]  # Polynomial\n",
    "k_degree = 1  # Degree of the B-spline\n",
    "knots_num = Kx[0][0]  # Number of knots, adjust as needed\n",
    "knots = [0.]*k_degree + list(np.linspace(0, 1, knots_num - k_degree)) + [1.]*k_degree"
   ],
   "metadata": {
    "collapsed": false
   }
  },
  {
   "cell_type": "markdown",
   "source": [
    "### Visualization of B-spline basis"
   ],
   "metadata": {
    "collapsed": false
   }
  },
  {
   "cell_type": "code",
   "execution_count": 25,
   "outputs": [
    {
     "data": {
      "text/plain": "<Figure size 720x432 with 1 Axes>",
      "image/png": "[encoded data removed]"
     },
     "metadata": {
      "needs_background": "light"
     },
     "output_type": "display_data"
    }
   ],
   "source": [
    "plot_b_spline_basis(k_degree, knots)"
   ],
   "metadata": {
    "collapsed": false
   }
  },
  {
   "cell_type": "markdown",
   "source": [
    "### Jcb calculation between b-splines and polynomials"
   ],
   "metadata": {
    "collapsed": false
   }
  },
  {
   "cell_type": "code",
   "execution_count": 26,
   "outputs": [
    {
     "name": "stdout",
     "output_type": "stream",
     "text": [
      "[[0.143 0.01  0.001]\n",
      " [0.143 0.031 0.007]\n",
      " [0.143 0.051 0.018]\n",
      " [0.143 0.071 0.036]\n",
      " [0.143 0.092 0.059]\n",
      " [0.143 0.112 0.088]\n",
      " [0.143 0.133 0.123]]\n"
     ]
    }
   ],
   "source": [
    "J_cb_2 = np.round(Jcb(*[calc_basis_matrix(x_basis=x, b_basis=b, k=k_degree, knots_num=knots_num) for x, b in zip([Kx[0][0]-1], Kb[0])]), 3)\n",
    "print(J_cb_2)"
   ],
   "metadata": {
    "collapsed": false
   }
  },
  {
   "cell_type": "markdown",
   "source": [
    "### Jcb calculation between step and polynomials"
   ],
   "metadata": {
    "collapsed": false
   }
  },
  {
   "cell_type": "code",
   "execution_count": 27,
   "outputs": [
    {
     "name": "stdout",
     "output_type": "stream",
     "text": [
      "[[0.143 0.01  0.001]\n",
      " [0.143 0.031 0.007]\n",
      " [0.143 0.051 0.018]\n",
      " [0.143 0.071 0.036]\n",
      " [0.143 0.092 0.059]\n",
      " [0.143 0.112 0.088]\n",
      " [0.143 0.133 0.123]]\n"
     ]
    }
   ],
   "source": [
    "sys.path.append(os.path.abspath(\"../../utilities\"))\n",
    "from utilities.basis import b_spline_basis\n",
    "from utilities.J_step_poly import Jcb, calc_basis_matrix\n",
    "\n",
    "J_cb = np.round(Jcb(*[calc_basis_matrix(x_basis=x, b_basis=b) for x, b in zip([Kx[0][0]-1], Kb[0])]), 3)\n",
    "print(J_cb)"
   ],
   "metadata": {
    "collapsed": false
   }
  },
  {
   "cell_type": "markdown",
   "source": [
    "### Test"
   ],
   "metadata": {
    "collapsed": false
   }
  },
  {
   "cell_type": "code",
   "execution_count": 28,
   "outputs": [
    {
     "name": "stdout",
     "output_type": "stream",
     "text": [
      "True\n"
     ]
    }
   ],
   "source": [
    "print(not bool((np.sum(J_cb_2 == J_cb) / J_cb.size) - 1.))"
   ],
   "metadata": {
    "collapsed": false
   }
  },
  {
   "cell_type": "code",
   "execution_count": null,
   "outputs": [],
   "source": [],
   "metadata": {
    "collapsed": false
   }
  }
 ],
 "metadata": {
  "kernelspec": {
   "display_name": "Python 3",
   "language": "python",
   "name": "python3"
  },
  "language_info": {
   "codemirror_mode": {
    "name": "ipython",
    "version": 2
   },
   "file_extension": ".py",
   "mimetype": "text/x-python",
   "name": "python",
   "nbconvert_exporter": "python",
   "pygments_lexer": "ipython2",
   "version": "2.7.6"
  }
 },
 "nbformat": 4,
 "nbformat_minor": 0
}
