{
 "cells": [
  {
   "cell_type": "code",
   "execution_count": 56,
   "metadata": {
    "collapsed": true
   },
   "outputs": [],
   "source": [
    "import numpy as np\n",
    "from matplotlib import pyplot as plt\n",
    "from scipy.integrate import quad"
   ]
  },
  {
   "cell_type": "code",
   "execution_count": 57,
   "outputs": [],
   "source": [
    "def bspline_basis_functions(time, degree, knot_vector):\n",
    "    knot_vector = np.array(knot_vector)\n",
    "    num_basis_functions = len(knot_vector) - degree - 1\n",
    "    basis_functions = np.zeros(num_basis_functions)\n",
    "\n",
    "    for i in range(num_basis_functions):\n",
    "        basis_functions[i] = bspline_basis_function(i, degree, knot_vector, time)\n",
    "\n",
    "    return basis_functions\n",
    "\n",
    "def bspline_basis_function(i, k, knots, t):\n",
    "    if k == 0:\n",
    "        if knots[i] <= t < knots[i+1]:\n",
    "            return 1.0\n",
    "        elif t == knots[-1] and t == knots[i+1]:\n",
    "            return 1.0\n",
    "        else:\n",
    "            return 0.0\n",
    "    else:\n",
    "        denom1 = knots[i+k] - knots[i]\n",
    "        if denom1 != 0:\n",
    "            term1 = (t - knots[i]) / denom1 * bspline_basis_function(i, k-1, knots, t)\n",
    "        else:\n",
    "            term1 = 0.0\n",
    "\n",
    "        denom2 = knots[i+k+1] - knots[i+1]\n",
    "        if denom2 != 0:\n",
    "            term2 = (knots[i+k+1] - t) / denom2 * bspline_basis_function(i+1, k-1, knots, t)\n",
    "        else:\n",
    "            term2 = 0.0\n",
    "\n",
    "        return term1 + term2\n",
    "\n",
    "def generate_knot_vector(num_basis_functions, degree):\n",
    "    if num_basis_functions < degree + 1:\n",
    "        raise ValueError(\"Number of basis functions must be at least degree + 1.\")\n",
    "\n",
    "    num_knots = num_basis_functions + degree + 1\n",
    "    knot_vector = np.zeros(num_knots)\n",
    "\n",
    "    knot_vector[:degree + 1] = 0.0\n",
    "    knot_vector[-(degree + 1):] = 1.0\n",
    "\n",
    "    num_internal_knots = num_knots - 2 * (degree + 1)\n",
    "\n",
    "    if num_internal_knots > 0:\n",
    "        internal_knots = np.linspace(0, 1, num_internal_knots + 2)[1:-1]  # Exclude endpoints\n",
    "        knot_vector[degree + 1:-degree - 1] = internal_knots\n",
    "\n",
    "    return knot_vector\n",
    "\n",
    "def compute_J_matrix(degree1, knot_vector1, degree2, knot_vector2):\n",
    "    num_basis_functions1 = len(knot_vector1) - degree1 - 1\n",
    "    num_basis_functions2 = len(knot_vector2) - degree2 - 1\n",
    "    J = np.zeros((num_basis_functions1, num_basis_functions2))\n",
    "\n",
    "    for i in range(num_basis_functions1):\n",
    "        for j in range(num_basis_functions2):\n",
    "            def integrand(t):\n",
    "                Ni = bspline_basis_function(i, degree1, knot_vector1, t)\n",
    "                Mj = bspline_basis_function(j, degree2, knot_vector2, t)\n",
    "                return Ni * Mj\n",
    "\n",
    "            support_Ni = (knot_vector1[i], knot_vector1[i + degree1 + 1])\n",
    "            support_Mj = (knot_vector2[j], knot_vector2[j + degree2 + 1])\n",
    "            a = max(0.0, max(support_Ni[0], support_Mj[0]))\n",
    "            b = min(1.0, min(support_Ni[1], support_Mj[1]))\n",
    "\n",
    "            if a >= b:\n",
    "                J[i, j] = 0.0\n",
    "            else:\n",
    "                integral_value, _ = quad(integrand, a, b)\n",
    "                J[i, j] = integral_value\n",
    "    return J"
   ],
   "metadata": {
    "collapsed": false
   }
  },
  {
   "cell_type": "code",
   "execution_count": 73,
   "outputs": [],
   "source": [
    "degree = 1\n",
    "num_basis_functions = 3\n",
    "knot_vector = generate_knot_vector(num_basis_functions, degree)\n",
    "coefficients = np.random.uniform(-1, 1, size=num_basis_functions)"
   ],
   "metadata": {
    "collapsed": false
   }
  },
  {
   "cell_type": "code",
   "execution_count": 74,
   "outputs": [],
   "source": [
    "t_values = np.linspace(0, 1, 1000)\n",
    "internal_knots = [0, *knot_vector[degree+1:-degree-1], 1]\n",
    "\n",
    "s_values = [coefficients @ bspline_basis_functions(t, degree, knot_vector) for t in t_values]\n",
    "breaks = [coefficients @ bspline_basis_functions(break_point, degree, knot_vector) for break_point in internal_knots]"
   ],
   "metadata": {
    "collapsed": false
   }
  },
  {
   "cell_type": "code",
   "execution_count": 75,
   "outputs": [
    {
     "data": {
      "text/plain": "<Figure size 800x550 with 1 Axes>",
      "image/png": "[encoded data removed]"
     },
     "metadata": {},
     "output_type": "display_data"
    }
   ],
   "source": [
    "# Plot the resulting function\n",
    "plt.style.use('fivethirtyeight')\n",
    "plt.plot(t_values, s_values)\n",
    "plt.plot(internal_knots, breaks, 'o', color='orange',)\n",
    "plt.title(f'Degree {degree} B-Spline Curve')\n",
    "plt.xlabel('t')\n",
    "plt.ylabel('b-spline')\n",
    "plt.ylim(-1.2, 1.2)\n",
    "plt.grid(False)\n",
    "plt.show()"
   ],
   "metadata": {
    "collapsed": false
   }
  },
  {
   "cell_type": "code",
   "execution_count": 76,
   "outputs": [],
   "source": [
    "degree1 = 1\n",
    "degree2 = 1\n",
    "num_basis_functions1 = 5\n",
    "num_basis_functions2 = 3\n",
    "knot_vector1 = generate_knot_vector(num_basis_functions1, degree1)\n",
    "knot_vector2 = generate_knot_vector(num_basis_functions2, degree2)"
   ],
   "metadata": {
    "collapsed": false
   }
  },
  {
   "cell_type": "code",
   "execution_count": 77,
   "outputs": [
    {
     "data": {
      "text/plain": "array([[0.10416667, 0.02083333, 0.        ],\n       [0.125     , 0.125     , 0.        ],\n       [0.02083333, 0.20833333, 0.02083333],\n       [0.        , 0.125     , 0.125     ],\n       [0.        , 0.02083333, 0.10416667]])"
     },
     "execution_count": 77,
     "metadata": {},
     "output_type": "execute_result"
    }
   ],
   "source": [
    "compute_J_matrix(degree1, knot_vector1, degree2, knot_vector2)"
   ],
   "metadata": {
    "collapsed": false
   }
  },
  {
   "cell_type": "code",
   "execution_count": null,
   "outputs": [],
   "source": [],
   "metadata": {
    "collapsed": false
   }
  }
 ],
 "metadata": {
  "kernelspec": {
   "display_name": "Python 3",
   "language": "python",
   "name": "python3"
  },
  "language_info": {
   "codemirror_mode": {
    "name": "ipython",
    "version": 2
   },
   "file_extension": ".py",
   "mimetype": "text/x-python",
   "name": "python",
   "nbconvert_exporter": "python",
   "pygments_lexer": "ipython2",
   "version": "2.7.6"
  }
 },
 "nbformat": 4,
 "nbformat_minor": 0
}
