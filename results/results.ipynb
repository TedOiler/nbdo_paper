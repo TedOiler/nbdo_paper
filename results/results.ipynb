{
 "cells": [
  {
   "cell_type": "code",
   "execution_count": 11,
   "metadata": {
    "collapsed": true
   },
   "outputs": [],
   "source": [
    "import sys\n",
    "import os\n",
    "import numpy as np\n",
    "sys.path.append(os.path.abspath(\"../mathematical_models\"))\n",
    "from mathematical_models.f_on_f import FunctionOnFunctionModel\n",
    "from datetime import datetime\n",
    "\n",
    "sys.path.append(os.path.abspath(\"../optimizers\"))\n",
    "from optimizers.cordex_continuous import CordexContinuous\n",
    "\n",
    "sys.path.append(os.path.abspath(\"../basis\"))\n",
    "from basis.bspline import BSplineBasis\n",
    "from basis.polynomial import PolynomialBasis\n",
    "from basis.basis import plot_design\n",
    "from basis.basis import Basis\n",
    "import pandas as pd\n",
    "\n",
    "import ast\n",
    "import re"
   ]
  },
  {
   "cell_type": "code",
   "execution_count": 12,
   "outputs": [],
   "source": [
    "results = pd.read_csv(\"results_db.tsv\", sep='\\t')"
   ],
   "metadata": {
    "collapsed": false
   }
  },
  {
   "cell_type": "code",
   "execution_count": 13,
   "outputs": [
    {
     "data": {
      "text/plain": "     epochs  refinement  Runs  X family  X degree  X breaks  B family  \\\n0      1000         100    12  bpslines         0         1  bsplines   \n1      1000         100    12  bpslines         0         1  bsplines   \n2      1000         100    12  bpslines         0         1  bsplines   \n3      1000         100    12  bpslines         0         1  bsplines   \n4      1000         100    12  bpslines         0         1  bsplines   \n..      ...         ...   ...       ...       ...       ...       ...   \n571    1000         100    12  bpslines         2        29  bsplines   \n572    1000         100    12  bpslines         2        29  bsplines   \n573    1000         100    12  bpslines         2        29  bsplines   \n574    1000         100    12  bpslines         2        29  bsplines   \n575    1000         100    12  bpslines         2        29  bsplines   \n\n     B degree  B breaks                                             design  \\\n0           0         1  [[ 1.]  [ 1.]  [ 1.]  [-1.]  [-1.]  [-1.]  [ 1...   \n1           0         2                                               NONE   \n2           1         1                                               NONE   \n3           0         3                                               NONE   \n4           1         2                                               NONE   \n..        ...       ...                                                ...   \n571         2         4  [[-1.         -1.         -1.         -1.     ...   \n572         2         5  [[-1.         -1.         -1.         -1.     ...   \n573         2         6  [[ 1.          1.          1.          1.     ...   \n574         2         7  [[ 1.          1.          1.         -1.     ...   \n575         2         8  [[ 1.          1.          1.         -1.     ...   \n\n        criterion  \n0    0.1666666667  \n1            NONE  \n2            NONE  \n3            NONE  \n4            NONE  \n..            ...  \n571   44.82615977  \n572   81.67759637  \n573   136.6098394  \n574   209.9139329  \n575   313.7228806  \n\n[576 rows x 11 columns]",
      "text/html": "<div>\n<style scoped>\n    .dataframe tbody tr th:only-of-type {\n        vertical-align: middle;\n    }\n\n    .dataframe tbody tr th {\n        vertical-align: top;\n    }\n\n    .dataframe thead th {\n        text-align: right;\n    }\n</style>\n<table border=\"1\" class=\"dataframe\">\n  <thead>\n    <tr style=\"text-align: right;\">\n      <th></th>\n      <th>epochs</th>\n      <th>refinement</th>\n      <th>Runs</th>\n      <th>X family</th>\n      <th>X degree</th>\n      <th>X breaks</th>\n      <th>B family</th>\n      <th>B degree</th>\n      <th>B breaks</th>\n      <th>design</th>\n      <th>criterion</th>\n    </tr>\n  </thead>\n  <tbody>\n    <tr>\n      <th>0</th>\n      <td>1000</td>\n      <td>100</td>\n      <td>12</td>\n      <td>bpslines</td>\n      <td>0</td>\n      <td>1</td>\n      <td>bsplines</td>\n      <td>0</td>\n      <td>1</td>\n      <td>[[ 1.]  [ 1.]  [ 1.]  [-1.]  [-1.]  [-1.]  [ 1...</td>\n      <td>0.1666666667</td>\n    </tr>\n    <tr>\n      <th>1</th>\n      <td>1000</td>\n      <td>100</td>\n      <td>12</td>\n      <td>bpslines</td>\n      <td>0</td>\n      <td>1</td>\n      <td>bsplines</td>\n      <td>0</td>\n      <td>2</td>\n      <td>NONE</td>\n      <td>NONE</td>\n    </tr>\n    <tr>\n      <th>2</th>\n      <td>1000</td>\n      <td>100</td>\n      <td>12</td>\n      <td>bpslines</td>\n      <td>0</td>\n      <td>1</td>\n      <td>bsplines</td>\n      <td>1</td>\n      <td>1</td>\n      <td>NONE</td>\n      <td>NONE</td>\n    </tr>\n    <tr>\n      <th>3</th>\n      <td>1000</td>\n      <td>100</td>\n      <td>12</td>\n      <td>bpslines</td>\n      <td>0</td>\n      <td>1</td>\n      <td>bsplines</td>\n      <td>0</td>\n      <td>3</td>\n      <td>NONE</td>\n      <td>NONE</td>\n    </tr>\n    <tr>\n      <th>4</th>\n      <td>1000</td>\n      <td>100</td>\n      <td>12</td>\n      <td>bpslines</td>\n      <td>0</td>\n      <td>1</td>\n      <td>bsplines</td>\n      <td>1</td>\n      <td>2</td>\n      <td>NONE</td>\n      <td>NONE</td>\n    </tr>\n    <tr>\n      <th>...</th>\n      <td>...</td>\n      <td>...</td>\n      <td>...</td>\n      <td>...</td>\n      <td>...</td>\n      <td>...</td>\n      <td>...</td>\n      <td>...</td>\n      <td>...</td>\n      <td>...</td>\n      <td>...</td>\n    </tr>\n    <tr>\n      <th>571</th>\n      <td>1000</td>\n      <td>100</td>\n      <td>12</td>\n      <td>bpslines</td>\n      <td>2</td>\n      <td>29</td>\n      <td>bsplines</td>\n      <td>2</td>\n      <td>4</td>\n      <td>[[-1.         -1.         -1.         -1.     ...</td>\n      <td>44.82615977</td>\n    </tr>\n    <tr>\n      <th>572</th>\n      <td>1000</td>\n      <td>100</td>\n      <td>12</td>\n      <td>bpslines</td>\n      <td>2</td>\n      <td>29</td>\n      <td>bsplines</td>\n      <td>2</td>\n      <td>5</td>\n      <td>[[-1.         -1.         -1.         -1.     ...</td>\n      <td>81.67759637</td>\n    </tr>\n    <tr>\n      <th>573</th>\n      <td>1000</td>\n      <td>100</td>\n      <td>12</td>\n      <td>bpslines</td>\n      <td>2</td>\n      <td>29</td>\n      <td>bsplines</td>\n      <td>2</td>\n      <td>6</td>\n      <td>[[ 1.          1.          1.          1.     ...</td>\n      <td>136.6098394</td>\n    </tr>\n    <tr>\n      <th>574</th>\n      <td>1000</td>\n      <td>100</td>\n      <td>12</td>\n      <td>bpslines</td>\n      <td>2</td>\n      <td>29</td>\n      <td>bsplines</td>\n      <td>2</td>\n      <td>7</td>\n      <td>[[ 1.          1.          1.         -1.     ...</td>\n      <td>209.9139329</td>\n    </tr>\n    <tr>\n      <th>575</th>\n      <td>1000</td>\n      <td>100</td>\n      <td>12</td>\n      <td>bpslines</td>\n      <td>2</td>\n      <td>29</td>\n      <td>bsplines</td>\n      <td>2</td>\n      <td>8</td>\n      <td>[[ 1.          1.          1.         -1.     ...</td>\n      <td>313.7228806</td>\n    </tr>\n  </tbody>\n</table>\n<p>576 rows × 11 columns</p>\n</div>"
     },
     "execution_count": 13,
     "metadata": {},
     "output_type": "execute_result"
    }
   ],
   "source": [
    "results"
   ],
   "metadata": {
    "collapsed": false
   }
  },
  {
   "cell_type": "code",
   "execution_count": 34,
   "outputs": [],
   "source": [
    "X_type = \"bpslines\"\n",
    "X_degree = 0\n",
    "X_breaks = 9\n",
    "B_type = \"bsplines\"\n",
    "B_degree = 0\n",
    "B_breaks = 3\n",
    "\n",
    "filter_args = {\n",
    "    'X family': X_type,\n",
    "    'X degree': X_degree,\n",
    "    'X breaks': X_breaks,\n",
    "    'B family': B_type,\n",
    "    'B degree': B_degree,\n",
    "    'B breaks': B_breaks\n",
    "}\n",
    "\n",
    "filter_args = {k: v for k, v in filter_args.items() if v is not None}"
   ],
   "metadata": {
    "collapsed": false
   }
  },
  {
   "cell_type": "code",
   "execution_count": 34,
   "outputs": [],
   "source": [],
   "metadata": {
    "collapsed": false
   }
  },
  {
   "cell_type": "code",
   "execution_count": 35,
   "outputs": [],
   "source": [
    "filtered_results = results.copy()\n",
    "for column, value in filter_args.items():\n",
    "    filtered_results = filtered_results[filtered_results[column] == value]\n",
    "min_criterion = filtered_results['criterion'].min()\n",
    "best_result = filtered_results[filtered_results['criterion'] == min_criterion]"
   ],
   "metadata": {
    "collapsed": false
   }
  },
  {
   "cell_type": "code",
   "execution_count": 36,
   "outputs": [
    {
     "data": {
      "text/plain": "    epochs  refinement  Runs  X family  X degree  X breaks  B family  \\\n99    1000         100    12  bpslines         0         9  bsplines   \n\n    B degree  B breaks                                             design  \\\n99         0         3  [[-1. -1. -1. -1.  1.  1.  1.  1.]  [ 1.  1.  ...   \n\n   criterion  \n99      0.75  ",
      "text/html": "<div>\n<style scoped>\n    .dataframe tbody tr th:only-of-type {\n        vertical-align: middle;\n    }\n\n    .dataframe tbody tr th {\n        vertical-align: top;\n    }\n\n    .dataframe thead th {\n        text-align: right;\n    }\n</style>\n<table border=\"1\" class=\"dataframe\">\n  <thead>\n    <tr style=\"text-align: right;\">\n      <th></th>\n      <th>epochs</th>\n      <th>refinement</th>\n      <th>Runs</th>\n      <th>X family</th>\n      <th>X degree</th>\n      <th>X breaks</th>\n      <th>B family</th>\n      <th>B degree</th>\n      <th>B breaks</th>\n      <th>design</th>\n      <th>criterion</th>\n    </tr>\n  </thead>\n  <tbody>\n    <tr>\n      <th>99</th>\n      <td>1000</td>\n      <td>100</td>\n      <td>12</td>\n      <td>bpslines</td>\n      <td>0</td>\n      <td>9</td>\n      <td>bsplines</td>\n      <td>0</td>\n      <td>3</td>\n      <td>[[-1. -1. -1. -1.  1.  1.  1.  1.]  [ 1.  1.  ...</td>\n      <td>0.75</td>\n    </tr>\n  </tbody>\n</table>\n</div>"
     },
     "execution_count": 36,
     "metadata": {},
     "output_type": "execute_result"
    }
   ],
   "source": [
    "best_result"
   ],
   "metadata": {
    "collapsed": false
   }
  },
  {
   "cell_type": "code",
   "execution_count": 37,
   "outputs": [],
   "source": [
    "x_degree = best_result['X degree'].values[0]"
   ],
   "metadata": {
    "collapsed": false
   }
  },
  {
   "cell_type": "code",
   "execution_count": 38,
   "outputs": [],
   "source": [
    "x_bases = [BSplineBasis(degree=best_result['X degree'].values[0], total_knots_num=int(best_result['X breaks'].values[0]))]\n",
    "N = best_result['Runs'].values[0]\n",
    "best_objective_value = ast.literal_eval(best_result['criterion'].values[0])\n",
    "num_of_basis = best_result['X breaks'].values[0]\n",
    "\n",
    "best_row = best_result.iloc[0]\n",
    "design_str = best_row['design']\n",
    "design_str = design_str.strip('[]')\n",
    "rows_str = design_str.split('] [')\n",
    "design_list = []\n",
    "for row_str in rows_str:\n",
    "    row_str = row_str.replace('[', '').replace(']', '')\n",
    "    numbers_str = row_str.strip().split()\n",
    "    row = [float(num) for num in numbers_str]\n",
    "    design_list.append(row)\n",
    "\n",
    "best_design = np.array(design_list).reshape(N, -1)"
   ],
   "metadata": {
    "collapsed": false
   }
  },
  {
   "cell_type": "code",
   "execution_count": 39,
   "outputs": [
    {
     "name": "stdout",
     "output_type": "stream",
     "text": [
      "[[-1. -1. -1. -1.  1.  1.  1.  1.]\n",
      " [ 1.  1.  1.  1.  1.  1.  1.  1.]\n",
      " [-1. -1. -1. -1. -1. -1. -1. -1.]\n",
      " [-1. -1. -1. -1.  1.  1.  1.  1.]\n",
      " [ 1.  1.  1.  1.  1.  1.  1.  1.]\n",
      " [ 1.  1.  1.  1. -1. -1. -1. -1.]\n",
      " [ 1.  1.  1.  1. -1. -1. -1. -1.]\n",
      " [ 1.  1.  1.  1.  1.  1.  1.  1.]\n",
      " [-1. -1. -1. -1. -1. -1. -1. -1.]\n",
      " [ 1.  1.  1.  1. -1. -1. -1. -1.]\n",
      " [-1. -1. -1. -1. -1. -1. -1. -1.]\n",
      " [-1. -1. -1. -1.  1.  1.  1.  1.]]\n"
     ]
    }
   ],
   "source": [
    "print(np.round(best_design,2))"
   ],
   "metadata": {
    "collapsed": false
   }
  },
  {
   "cell_type": "code",
   "execution_count": 40,
   "outputs": [
    {
     "data": {
      "text/plain": "<Figure size 800x600 with 12 Axes>",
      "image/png": "[encoded data removed]"
     },
     "metadata": {},
     "output_type": "display_data"
    },
    {
     "name": "stdout",
     "output_type": "stream",
     "text": [
      "Best objective value: 0.75 for 9 bases.\n"
     ]
    }
   ],
   "source": [
    "plot_design(best_design, x_bases, N,\n",
    "            sub_x=4, sub_y=3, colour=\"#FFC100\", figsize=(8,6)) # FFC100\n",
    "print(f\"Best objective value: {np.round(best_objective_value,3)} for {num_of_basis} bases.\")"
   ],
   "metadata": {
    "collapsed": false
   }
  },
  {
   "cell_type": "code",
   "execution_count": null,
   "outputs": [],
   "source": [],
   "metadata": {
    "collapsed": false
   }
  },
  {
   "cell_type": "code",
   "execution_count": 90,
   "outputs": [],
   "source": [],
   "metadata": {
    "collapsed": false
   }
  }
 ],
 "metadata": {
  "kernelspec": {
   "display_name": "Python 3",
   "language": "python",
   "name": "python3"
  },
  "language_info": {
   "codemirror_mode": {
    "name": "ipython",
    "version": 2
   },
   "file_extension": ".py",
   "mimetype": "text/x-python",
   "name": "python",
   "nbconvert_exporter": "python",
   "pygments_lexer": "ipython2",
   "version": "2.7.6"
  }
 },
 "nbformat": 4,
 "nbformat_minor": 0
}
